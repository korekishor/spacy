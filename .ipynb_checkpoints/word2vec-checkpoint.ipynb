{
 "cells": [
  {
   "cell_type": "code",
   "execution_count": 11,
   "id": "8aedeb23",
   "metadata": {},
   "outputs": [
    {
     "name": "stdout",
     "output_type": "stream",
     "text": [
      "[Narendra Damodardas Modi, Gujarati, 17 September 1950)[a, Indian, 14th, India, 2014, Gujarat, 2001 to 2014, Parliament, Varanasi, the Bharatiya Janata Party, BJP, the Rashtriya Swayamsevak Sangh, Hindu, first, India, 1947, the Indian National Congress]\n"
     ]
    }
   ],
   "source": [
    "import spacy \n",
    "from nltk.corpus import stopwords\n",
    " \n",
    "\n",
    "nlp=spacy.load(\"en_core_web_sm\")\n",
    "example_sent=nlp(\"Narendra Damodardas Modi (Gujarati: [ˈnəɾendɾə dɑmodəɾˈdɑs ˈmodiː] (listen); born 17 September 1950)[a] is an Indian politician serving as the 14th and current prime minister of India since 2014. Modi was the chief minister of Gujarat from 2001 to 2014 and is the Member of Parliament from Varanasi. He is a member of the Bharatiya Janata Party (BJP) and of the Rashtriya Swayamsevak Sangh (RSS), a right-wing Hindu nationalist paramilitary volunteer organisation. He is the first prime minister to have been born after India's independence in 1947 and the longest serving prime minister from outside the Indian National Congress.\")\n",
    "stop_words = set(stopwords.words('english'))\n",
    "\n",
    "word=[]\n",
    "\n",
    "for ent in example_sent.ents:\n",
    "    if ent not in stop_words:\n",
    "        word.append(ent)\n",
    "print(word)\n",
    "\n",
    "\n",
    "# print(stop_words)\n",
    "\n",
    "# print(filtered_sentence)\n"
   ]
  },
  {
   "cell_type": "code",
   "execution_count": 12,
   "id": "cbaa0fb9",
   "metadata": {},
   "outputs": [
    {
     "name": "stdout",
     "output_type": "stream",
     "text": [
      "[Elon Reeve Musk FRS, June 28, 1971, American, The Boring Company, Neuralink, OpenAI, around US$266 billion, August 17, Forbes\n",
      "                 ']\n"
     ]
    }
   ],
   "source": [
    "import spacy \n",
    "from nltk.corpus import stopwords\n",
    " \n",
    "\n",
    "nlp=spacy.load(\"en_core_web_sm\")\n",
    "\n",
    "example_sent=nlp(\"\"\"Elon Reeve Musk FRS (/ˈiːlɒn/ EE-lon; born June 28, 1971) is a naturalized American business\n",
    "                 magnate and investor. He is the founder, CEO, and Chief Engineer at SpaceX; angel investor, CEO, \n",
    "                 and Product Architect of Tesla, Inc.; founder of The Boring Company; and co-founder of Neuralink and\n",
    "                 OpenAI. With an estimated net worth of around US$266 billion as of August 17, 2022,[4] Musk is the\n",
    "                 wealthiest person in the world according to both the Bloomberg Billionaires Index and Forbes\n",
    "                 ' real-time billionaires list.[5][6]\"\"\")\n",
    "\n",
    "stop_words = set(stopwords.words('english'))\n",
    "\n",
    "word=[]\n",
    "\n",
    "for ent in example_sent.ents:\n",
    "    if ent not in stop_words:\n",
    "        word.append(ent)\n",
    "\n",
    "print(word)"
   ]
  },
  {
   "cell_type": "code",
   "execution_count": null,
   "id": "0ba28f25",
   "metadata": {},
   "outputs": [],
   "source": [
    "# bidirectional encoder representation transformal\n",
    "\n",
    "\n",
    "                 "
   ]
  }
 ],
 "metadata": {
  "kernelspec": {
   "display_name": "Python 3 (ipykernel)",
   "language": "python",
   "name": "python3"
  },
  "language_info": {
   "codemirror_mode": {
    "name": "ipython",
    "version": 3
   },
   "file_extension": ".py",
   "mimetype": "text/x-python",
   "name": "python",
   "nbconvert_exporter": "python",
   "pygments_lexer": "ipython3",
   "version": "3.10.4"
  }
 },
 "nbformat": 4,
 "nbformat_minor": 5
}
