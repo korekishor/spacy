{
 "cells": [
  {
   "cell_type": "code",
   "execution_count": 6,
   "id": "89b3e102",
   "metadata": {},
   "outputs": [
    {
     "name": "stdout",
     "output_type": "stream",
     "text": [
      "0 dr\n",
      "1 .\n",
      "2 strange\n",
      "3 visit\n",
      "4 in\n",
      "5 india\n",
      "6 and\n",
      "7 eat\n",
      "8 pavbhaji\n"
     ]
    }
   ],
   "source": [
    "import spacy\n",
    "nlp=spacy.blank(\"en\")\n",
    "doc=nlp(\"dr. strange visit in india and eat pavbhaji\")\n",
    "for token in doc:\n",
    "    print(token.i,token)"
   ]
  },
  {
   "cell_type": "code",
   "execution_count": 5,
   "id": "a17e054b",
   "metadata": {},
   "outputs": [
    {
     "data": {
      "text/plain": [
       "dr"
      ]
     },
     "execution_count": 5,
     "metadata": {},
     "output_type": "execute_result"
    }
   ],
   "source": [
    "doc[0]"
   ]
  },
  {
   "cell_type": "code",
   "execution_count": 12,
   "id": "2d9ce37f",
   "metadata": {},
   "outputs": [
    {
     "name": "stdout",
     "output_type": "stream",
     "text": [
      "kishor@gmail.com\n",
      "harsh@gmail.com\n"
     ]
    }
   ],
   "source": [
    "import spacy\n",
    "nlp=spacy.blank(\"en\")\n",
    "doc=nlp(\"dr. strange visit in india and eat pavbhaji. kishor@gmail.com, harsh@gmail.com\")\n",
    "for token in doc:\n",
    "#     print(tokne.i,token.like_email)\n",
    "    if token.like_email==True:\n",
    "        print(token.text)"
   ]
  },
  {
   "cell_type": "code",
   "execution_count": 17,
   "id": "210c9bed",
   "metadata": {},
   "outputs": [
    {
     "data": {
      "text/plain": [
       "['gim', 'me', 'double', 'cheese', 'extra', 'large', 'healthy', 'pizza']"
      ]
     },
     "execution_count": 17,
     "metadata": {},
     "output_type": "execute_result"
    }
   ],
   "source": [
    "from spacy.symbols import ORTH\n",
    "nlp=spacy.blank(\"en\")\n",
    "nlp.tokenizer.add_special_case(\"gimme\",[\n",
    "    {ORTH:\"gim\"},\n",
    "    {ORTH:\"me\"}\n",
    "]\n",
    ")\n",
    "\n",
    "doc=nlp(\"gimme double cheese extra large healthy pizza\")\n",
    "token=[token.text for token in doc]\n",
    "token"
   ]
  },
  {
   "cell_type": "code",
   "execution_count": 22,
   "id": "469653fa",
   "metadata": {},
   "outputs": [
    {
     "ename": "ValueError",
     "evalue": "[E030] Sentence boundaries unset. You can add the 'sentencizer' component to the pipeline with: `nlp.add_pipe('sentencizer')`. Alternatively, add the dependency parser or sentence recognizer, or set sentence boundaries by setting `doc[i].is_sent_start`.",
     "output_type": "error",
     "traceback": [
      "\u001b[1;31m---------------------------------------------------------------------------\u001b[0m",
      "\u001b[1;31mValueError\u001b[0m                                Traceback (most recent call last)",
      "Input \u001b[1;32mIn [22]\u001b[0m, in \u001b[0;36m<cell line: 4>\u001b[1;34m()\u001b[0m\n\u001b[0;32m      2\u001b[0m nlp\u001b[38;5;241m=\u001b[39mspacy\u001b[38;5;241m.\u001b[39mblank(\u001b[38;5;124m\"\u001b[39m\u001b[38;5;124men\u001b[39m\u001b[38;5;124m\"\u001b[39m)\n\u001b[0;32m      3\u001b[0m doc\u001b[38;5;241m=\u001b[39mnlp(\u001b[38;5;124m\"\u001b[39m\u001b[38;5;124mdr. strange love to eat vadapav from mumbai. hulk love to eat pavbhaji from pune \u001b[39m\u001b[38;5;124m\"\u001b[39m)\n\u001b[1;32m----> 4\u001b[0m \u001b[38;5;28;01mfor\u001b[39;00m sentenses \u001b[38;5;129;01min\u001b[39;00m doc\u001b[38;5;241m.\u001b[39msents:\n\u001b[0;32m      5\u001b[0m     \u001b[38;5;28mprint\u001b[39m(sentenses)\n",
      "File \u001b[1;32m~\\AppData\\Local\\Programs\\Python\\Python310\\lib\\site-packages\\spacy\\tokens\\doc.pyx:890\u001b[0m, in \u001b[0;36msents\u001b[1;34m()\u001b[0m\n",
      "\u001b[1;31mValueError\u001b[0m: [E030] Sentence boundaries unset. You can add the 'sentencizer' component to the pipeline with: `nlp.add_pipe('sentencizer')`. Alternatively, add the dependency parser or sentence recognizer, or set sentence boundaries by setting `doc[i].is_sent_start`."
     ]
    }
   ],
   "source": [
    "from spacy.symbols import ORTH\n",
    "nlp=spacy.blank(\"en\")\n",
    "doc=nlp(\"dr. strange love to eat vadapav from mumbai. hulk love to eat pavbhaji from pune \")\n",
    "for sentenses in doc.sents:\n",
    "    print(sentenses)"
   ]
  },
  {
   "cell_type": "code",
   "execution_count": 23,
   "id": "7125625b",
   "metadata": {
    "scrolled": true
   },
   "outputs": [
    {
     "name": "stdout",
     "output_type": "stream",
     "text": [
      "dr\n",
      ".\n",
      "strange\n",
      "love\n",
      "to\n",
      "eat\n",
      "vadapav\n",
      "from\n",
      "mumbai\n",
      ".\n",
      "hulk\n",
      "love\n",
      "to\n",
      "eat\n",
      "pavbhaji\n",
      "from\n",
      "pune\n"
     ]
    }
   ],
   "source": [
    "import spacy \n",
    " \n",
    "nlp=spacy.blank(\"en\")\n",
    "doc=nlp(\"dr. strange love to eat vadapav from mumbai. hulk love to eat pavbhaji from pune \")\n",
    "for token in doc:\n",
    "    print(token)"
   ]
  },
  {
   "cell_type": "code",
   "execution_count": 33,
   "id": "2f015521",
   "metadata": {
    "scrolled": true
   },
   "outputs": [
    {
     "data": {
      "text/plain": [
       "[('tok2vec', <spacy.pipeline.tok2vec.Tok2Vec at 0x21b5e4aef20>),\n",
       " ('tagger', <spacy.pipeline.tagger.Tagger at 0x21b5e4aee60>),\n",
       " ('parser', <spacy.pipeline.dep_parser.DependencyParser at 0x21b6c8d0430>),\n",
       " ('attribute_ruler',\n",
       "  <spacy.pipeline.attributeruler.AttributeRuler at 0x21b6c7abf40>),\n",
       " ('lemmatizer', <spacy.lang.en.lemmatizer.EnglishLemmatizer at 0x21b6c6affc0>),\n",
       " ('ner', <spacy.pipeline.ner.EntityRecognizer at 0x21b6c8d0200>)]"
      ]
     },
     "execution_count": 33,
     "metadata": {},
     "output_type": "execute_result"
    }
   ],
   "source": [
    "nlp.pipe_names\n",
    "nlp=spacy.load(\"en_core_web_sm\")\n",
    "nlp.pipeline"
   ]
  },
  {
   "cell_type": "code",
   "execution_count": 35,
   "id": "3a80be0a",
   "metadata": {},
   "outputs": [
    {
     "name": "stdout",
     "output_type": "stream",
     "text": [
      "dr  |  PROPN  |  13167435108700103010\n",
      ".  |  PROPN  |  12646065887601541794\n",
      "strange  |  PROPN  |  8371520351987192855\n",
      "love  |  NOUN  |  3702023516439754181\n",
      "to  |  PART  |  3791531372978436496\n",
      "eat  |  VERB  |  9837207709914848172\n",
      "vadapav  |  NOUN  |  2113200769260980851\n",
      "from  |  ADP  |  7831658034963690409\n",
      "mumbai  |  NOUN  |  15245540129409801372\n",
      ".  |  PUNCT  |  12646065887601541794\n",
      "hulk  |  PROPN  |  11597428619500609211\n",
      "love  |  PROPN  |  3702023516439754181\n",
      "to  |  PART  |  3791531372978436496\n",
      "eat  |  VERB  |  9837207709914848172\n",
      "pavbhaji  |  NOUN  |  766411756897414679\n",
      "from  |  ADP  |  7831658034963690409\n",
      "pune  |  NOUN  |  3399371889671182923\n"
     ]
    }
   ],
   "source": [
    " \n",
    "nlp.pipe_names\n",
    "nlp=spacy.load(\"en_core_web_sm\")\n",
    "nlp.pipeline\n",
    "doc=nlp(\"dr. strange love to eat vadapav from mumbai. hulk love to eat pavbhaji from pune \")\n",
    "for token in doc:\n",
    "    print(token,\" | \",token.pos_,\" | \",token.lemma)"
   ]
  },
  {
   "cell_type": "code",
   "execution_count": 4,
   "id": "97e2958c",
   "metadata": {},
   "outputs": [
    {
     "data": {
      "text/plain": [
       "['ner']"
      ]
     },
     "execution_count": 4,
     "metadata": {},
     "output_type": "execute_result"
    }
   ],
   "source": [
    "source_nlp=spacy.load(\"en_core_web_sm\")\n",
    "nlp=spacy.blank(\"en\")\n",
    "nlp.add_pipe(\"ner\",source=source_nlp)\n",
    "nlp.pipe_names"
   ]
  },
  {
   "cell_type": "code",
   "execution_count": null,
   "id": "40a794b9",
   "metadata": {},
   "outputs": [],
   "source": [
    "# ----------------- stemming  "
   ]
  },
  {
   "cell_type": "code",
   "execution_count": 3,
   "id": "843a86a9",
   "metadata": {},
   "outputs": [
    {
     "ename": "ImportError",
     "evalue": "cannot import name 'PoerterStemmer' from 'nltk.stem' (c:\\Users\\Kishor Kore\\AppData\\Local\\Programs\\Python\\Python310\\lib\\site-packages\\nltk\\stem\\__init__.py)",
     "output_type": "error",
     "traceback": [
      "\u001b[1;31m---------------------------------------------------------------------------\u001b[0m",
      "\u001b[1;31mImportError\u001b[0m                               Traceback (most recent call last)",
      "\u001b[1;32mc:\\Users\\Kishor Kore\\Desktop\\spacy\\.ipynb_checkpoints\\nlt_spacy-checkpoint.ipynb Cell 11\u001b[0m in \u001b[0;36m<cell line: 3>\u001b[1;34m()\u001b[0m\n\u001b[0;32m      <a href='vscode-notebook-cell:/c%3A/Users/Kishor%20Kore/Desktop/spacy/.ipynb_checkpoints/nlt_spacy-checkpoint.ipynb#X13sZmlsZQ%3D%3D?line=0'>1</a>\u001b[0m \u001b[39mimport\u001b[39;00m \u001b[39mnltk\u001b[39;00m\n\u001b[0;32m      <a href='vscode-notebook-cell:/c%3A/Users/Kishor%20Kore/Desktop/spacy/.ipynb_checkpoints/nlt_spacy-checkpoint.ipynb#X13sZmlsZQ%3D%3D?line=1'>2</a>\u001b[0m \u001b[39mimport\u001b[39;00m \u001b[39mspacy\u001b[39;00m\n\u001b[1;32m----> <a href='vscode-notebook-cell:/c%3A/Users/Kishor%20Kore/Desktop/spacy/.ipynb_checkpoints/nlt_spacy-checkpoint.ipynb#X13sZmlsZQ%3D%3D?line=2'>3</a>\u001b[0m \u001b[39mfrom\u001b[39;00m \u001b[39mnltk\u001b[39;00m\u001b[39m.\u001b[39;00m\u001b[39mstem\u001b[39;00m \u001b[39mimport\u001b[39;00m PoerterStemmer\n\u001b[0;32m      <a href='vscode-notebook-cell:/c%3A/Users/Kishor%20Kore/Desktop/spacy/.ipynb_checkpoints/nlt_spacy-checkpoint.ipynb#X13sZmlsZQ%3D%3D?line=3'>4</a>\u001b[0m stremmer\u001b[39m=\u001b[39mPoerterStemmer()\n\u001b[0;32m      <a href='vscode-notebook-cell:/c%3A/Users/Kishor%20Kore/Desktop/spacy/.ipynb_checkpoints/nlt_spacy-checkpoint.ipynb#X13sZmlsZQ%3D%3D?line=4'>5</a>\u001b[0m words\u001b[39m=\u001b[39m[\u001b[39m'\u001b[39m\u001b[39meating\u001b[39m\u001b[39m'\u001b[39m,\u001b[39m'\u001b[39m\u001b[39maat\u001b[39m\u001b[39m'\u001b[39m,\u001b[39m'\u001b[39m\u001b[39meat\u001b[39m\u001b[39m'\u001b[39m,\u001b[39m'\u001b[39m\u001b[39madjastable\u001b[39m\u001b[39m'\u001b[39m,\u001b[39m'\u001b[39m\u001b[39madjast\u001b[39m\u001b[39m'\u001b[39m,\u001b[39m'\u001b[39m\u001b[39mability\u001b[39m\u001b[39m'\u001b[39m,\u001b[39m'\u001b[39m\u001b[39mmeeting\u001b[39m\u001b[39m'\u001b[39m]\n",
      "\u001b[1;31mImportError\u001b[0m: cannot import name 'PoerterStemmer' from 'nltk.stem' (c:\\Users\\Kishor Kore\\AppData\\Local\\Programs\\Python\\Python310\\lib\\site-packages\\nltk\\stem\\__init__.py)"
     ]
    }
   ],
   "source": [
    "import nltk\n",
    "import spacy\n",
    "from nltk.stem import PoerterStemmer\n",
    "stremmer=PoerterStemmer()\n",
    "words=['eating','aat','eat','adjastable','adjast','ability','meeting']\n",
    "\n",
    "for word in words:\n",
    "    print(word,\"|\",stremmer.steam(word))"
   ]
  },
  {
   "cell_type": "code",
   "execution_count": 20,
   "id": "d834f87e",
   "metadata": {},
   "outputs": [],
   "source": [
    "from cgi import test\n",
    "import pandas as pd\n",
    "\n",
    "df=df=pd.read_fwf(r\"C:\\Users\\Kishor Kore\\Desktop\\New Text Document.txt\")\n",
    "df.to_excel(r\"C:\\Users\\Kishor Kore\\Desktop\\New_csv_spam.xlsx\")\n",
    " \n",
    "\n",
    "# column name wise count\n",
    "df.df.columns[1].value_counts()\n",
    "# ham  4825\n",
    "# spam  766\n",
    "# name: category, detatype:int 64\n",
    "\n",
    "def get_sapm_number(x):\n",
    "    if x==\"sapm\":\n",
    "        return 1\n",
    "    return 0\n",
    "\n",
    "df['spam']=df['category'].apply(lambda x:1 if x==\"spam\" else 0)\n",
    "#  create new column name sa spam ; if spam value as 1 \n",
    "\n",
    "from sklearn.model_selection import train_test_splite\n",
    "x_train,x_text,y_train,y_test=train_test_splite(df.message,df.spam,test_size=0.2),\n",
    "x_train.shape\n",
    "# (4453,)\n",
    "type(x_train)\n",
    "# pandas.core.series.Series\n",
    "x_train[:4][1579]\n",
    "# show all spam index from excell\n",
    "type(x_train.values)\n",
    "# numpy.ndarray\n"
   ]
  },
  {
   "cell_type": "code",
   "execution_count": null,
   "id": "59124390",
   "metadata": {},
   "outputs": [],
   "source": [
    "from sklearn.feature_extraction.text import CountVectorizer\n",
    "v=CountVectorizer()\n",
    "x_train_cv=v.fit_transform(x_train.values)\n",
    "x_train_cv"
   ]
  },
  {
   "cell_type": "code",
   "execution_count": 16,
   "id": "37df3165",
   "metadata": {},
   "outputs": [
    {
     "data": {
      "text/html": [
       "<div>\n",
       "<style scoped>\n",
       "    .dataframe tbody tr th:only-of-type {\n",
       "        vertical-align: middle;\n",
       "    }\n",
       "\n",
       "    .dataframe tbody tr th {\n",
       "        vertical-align: top;\n",
       "    }\n",
       "\n",
       "    .dataframe thead th {\n",
       "        text-align: right;\n",
       "    }\n",
       "</style>\n",
       "<table border=\"1\" class=\"dataframe\">\n",
       "  <thead>\n",
       "    <tr style=\"text-align: right;\">\n",
       "      <th></th>\n",
       "      <th>Type\\tMessage</th>\n",
       "      <th>Unnamed: 1</th>\n",
       "    </tr>\n",
       "  </thead>\n",
       "  <tbody>\n",
       "    <tr>\n",
       "      <th>0</th>\n",
       "      <td>ham\\tGo until jurong point, crazy.. Available ...</td>\n",
       "      <td>NaN</td>\n",
       "    </tr>\n",
       "    <tr>\n",
       "      <th>1</th>\n",
       "      <td>ham\\tOk lar... Joking wif u oni...</td>\n",
       "      <td>NaN</td>\n",
       "    </tr>\n",
       "    <tr>\n",
       "      <th>2</th>\n",
       "      <td>spam\\tFree entry in 2 a wkly comp to win FA Cu...</td>\n",
       "      <td>NaN</td>\n",
       "    </tr>\n",
       "    <tr>\n",
       "      <th>3</th>\n",
       "      <td>ham\\tU dun say so early hor... U c already the...</td>\n",
       "      <td>NaN</td>\n",
       "    </tr>\n",
       "    <tr>\n",
       "      <th>4</th>\n",
       "      <td>ham\\tNah I don't think he goes to usf, he live...</td>\n",
       "      <td>NaN</td>\n",
       "    </tr>\n",
       "    <tr>\n",
       "      <th>...</th>\n",
       "      <td>...</td>\n",
       "      <td>...</td>\n",
       "    </tr>\n",
       "    <tr>\n",
       "      <th>651</th>\n",
       "      <td>ham\\tAnything lor. Juz both of us lor.</td>\n",
       "      <td>NaN</td>\n",
       "    </tr>\n",
       "    <tr>\n",
       "      <th>652</th>\n",
       "      <td>ham\\tGet me out of this dump heap. My mom deci...</td>\n",
       "      <td>NaN</td>\n",
       "    </tr>\n",
       "    <tr>\n",
       "      <th>653</th>\n",
       "      <td>ham\\tOk lor... Sony ericsson salesman... I ask...</td>\n",
       "      <td>NaN</td>\n",
       "    </tr>\n",
       "    <tr>\n",
       "      <th>654</th>\n",
       "      <td>ham\\tArd 6 like dat lor.</td>\n",
       "      <td>NaN</td>\n",
       "    </tr>\n",
       "    <tr>\n",
       "      <th>655</th>\n",
       "      <td>ham\\tWhy don't you wait 'til at least wednesda...</td>\n",
       "      <td>NaN</td>\n",
       "    </tr>\n",
       "  </tbody>\n",
       "</table>\n",
       "<p>656 rows × 2 columns</p>\n",
       "</div>"
      ],
      "text/plain": [
       "                                         Type\\tMessage Unnamed: 1\n",
       "0    ham\\tGo until jurong point, crazy.. Available ...        NaN\n",
       "1                   ham\\tOk lar... Joking wif u oni...        NaN\n",
       "2    spam\\tFree entry in 2 a wkly comp to win FA Cu...        NaN\n",
       "3    ham\\tU dun say so early hor... U c already the...        NaN\n",
       "4    ham\\tNah I don't think he goes to usf, he live...        NaN\n",
       "..                                                 ...        ...\n",
       "651             ham\\tAnything lor. Juz both of us lor.        NaN\n",
       "652  ham\\tGet me out of this dump heap. My mom deci...        NaN\n",
       "653  ham\\tOk lor... Sony ericsson salesman... I ask...        NaN\n",
       "654                           ham\\tArd 6 like dat lor.        NaN\n",
       "655  ham\\tWhy don't you wait 'til at least wednesda...        NaN\n",
       "\n",
       "[656 rows x 2 columns]"
      ]
     },
     "execution_count": 16,
     "metadata": {},
     "output_type": "execute_result"
    }
   ],
   "source": [
    "import pandas as pd\n",
    "df=pd.read_fwf(r\"C:\\Users\\Kishor Kore\\Desktop\\New Text Document.txt\" )\n",
    "df"
   ]
  },
  {
   "cell_type": "code",
   "execution_count": 23,
   "id": "fe2d4c05",
   "metadata": {},
   "outputs": [
    {
     "name": "stdout",
     "output_type": "stream",
     "text": [
      "[['artificial', 'intelligence', 'ai', 'intelligence', 'demonstrated', 'machines', 'opposed', 'natural', 'intelligence', 'displayed', 'animals', 'including', 'humans', 'ai', 'research', 'defined', 'field', 'study', 'intelligent', 'agents', 'refers', 'system', 'perceives', 'environment', 'takes', 'actions', 'maximize', 'chance', 'achieving', 'goals', 'term', 'artificial', 'intelligence', 'previously', 'used', 'describe', 'machines', 'mimic', 'display', 'human', 'cognitive', 'skills', 'associated', 'human', 'mind', 'learning', 'problem', 'solving', 'definition', 'since', 'rejected', 'major', 'ai', 'researchers', 'describe', 'ai', 'terms', 'rationality', 'acting', 'rationally', 'limit', 'intelligence', 'articulated', 'b', 'ai', 'applications', 'include', 'advanced', 'web', 'search', 'engines', 'e', 'g', 'google', 'recommendation', 'systems', 'used', 'youtube', 'amazon', 'netflix', 'understanding', 'human', 'speech', 'siri', 'alexa', 'self', 'driving', 'cars', 'e', 'g', 'tesla', 'automated', 'decision', 'making', 'competing', 'highest', 'level', 'strategic', 'game', 'systems', 'chess', 'go', 'machines', 'become', 'increasingly', 'capable', 'tasks', 'considered', 'require', 'intelligence', 'often', 'removed', 'definition', 'ai', 'phenomenon', 'known', 'ai', 'effect', 'instance', 'optical', 'character', 'recognition', 'frequently', 'excluded', 'things', 'considered', 'ai', 'become', 'routine', 'technology', 'artificial', 'intelligence', 'founded', 'academic', 'discipline', 'years', 'since', 'experienced', 'several', 'waves', 'optimism', 'followed', 'disappointment', 'loss', 'funding', 'known', 'ai', 'winter', 'followed', 'new', 'approaches', 'success', 'renewed', 'funding', 'ai', 'research', 'tried', 'discarded', 'many', 'different', 'approaches', 'since', 'founding', 'including', 'simulating', 'brain', 'modeling', 'human', 'problem', 'solving', 'formal', 'logic', 'large', 'databases', 'knowledge', 'imitating', 'animal', 'behavior', 'first', 'decades', 'st', 'century', 'highly', 'mathematical', 'statistical', 'machine', 'learning', 'dominated', 'field', 'technique', 'proved', 'highly', 'successful', 'helping', 'solve', 'many', 'challenging', 'problems', 'throughout', 'industry', 'academia', 'various', 'sub', 'fields', 'ai', 'research', 'centered', 'around', 'particular', 'goals', 'use', 'particular', 'tools', 'traditional', 'goals', 'ai', 'research', 'include', 'reasoning', 'knowledge', 'representation', 'planning', 'learning', 'natural', 'language', 'processing', 'perception', 'ability', 'move', 'manipulate', 'objects', 'c', 'general', 'intelligence', 'ability', 'solve', 'arbitrary', 'problem', 'among', 'field', 'long', 'term', 'goals', 'solve', 'problems', 'ai', 'researchers', 'adapted', 'integrated', 'wide', 'range', 'problem', 'solving', 'techniques', 'including', 'search', 'mathematical', 'optimization', 'formal', 'logic', 'artificial', 'neural', 'networks', 'methods', 'based', 'statistics', 'probability', 'economics', 'ai', 'also', 'draws', 'upon', 'computer', 'science', 'psychology', 'linguistics', 'philosophy', 'many', 'fields', 'field', 'founded', 'assumption', 'human', 'intelligence', 'precisely', 'described', 'machine', 'made', 'simulate', 'raised', 'philosophical', 'arguments', 'mind', 'ethical', 'consequences', 'creating', 'artificial', 'beings', 'endowed', 'human', 'like', 'intelligence', 'issues', 'previously', 'explored', 'myth', 'fiction', 'philosophy', 'since', 'antiquity', 'computer', 'scientists', 'philosophers', 'since', 'suggested', 'ai', 'may', 'become', 'existential', 'risk', 'humanity', 'rational', 'capacities', 'steered', 'towards', 'beneficial', 'goals', 'e', 'artificial', 'beings', 'intelligence', 'appeared', 'storytelling', 'devices', 'antiquity', 'common', 'fiction', 'mary', 'shelley', 'frankenstein', 'karel', 'apek', 'r', 'u', 'r', 'characters', 'fates', 'raised', 'many', 'issues', 'discussed', 'ethics', 'artificial', 'intelligence', 'study', 'mechanical', 'formal', 'reasoning', 'began', 'philosophers', 'mathematicians', 'antiquity', 'study', 'mathematical', 'logic', 'led', 'directly', 'alan', 'turing', 'theory', 'computation', 'suggested', 'machine', 'shuffling', 'symbols', 'simple', 'could', 'simulate', 'conceivable', 'act', 'mathematical', 'deduction', 'insight', 'digital', 'computers', 'simulate', 'process', 'formal', 'reasoning', 'known', 'church', 'turing', 'thesis', 'church', 'turing', 'thesis', 'along', 'concurrent', 'discoveries', 'neurobiology', 'information', 'theory', 'cybernetics', 'led', 'researchers', 'consider', 'possibility', 'building', 'electronic', 'brain', 'first', 'work', 'generally', 'recognized', 'ai', 'mccullouch', 'pitts', 'formal', 'design', 'turing', 'complete', 'artificial', 'neurons', 'two', 'visions', 'achieve', 'machine', 'intelligence', 'emerged', 'one', 'vision', 'known', 'symbolic', 'ai', 'gofai', 'use', 'computers', 'create', 'symbolic', 'representation', 'world', 'systems', 'could', 'reason', 'world', 'proponents', 'included', 'allen', 'newell', 'herbert', 'simon', 'marvin', 'minsky', 'closely', 'associated', 'approach', 'heuristic', 'search', 'approach', 'likened', 'intelligence', 'problem', 'exploring', 'space', 'possibilities', 'answers', 'second', 'vision', 'known', 'connectionist', 'approach', 'sought', 'achieve', 'intelligence', 'learning', 'proponents', 'approach', 'prominently', 'frank', 'rosenblatt', 'sought', 'connect', 'perceptron', 'ways', 'inspired', 'connections', 'neurons', 'james', 'manyika', 'others', 'compared', 'two', 'approaches', 'mind', 'symbolic', 'ai', 'brain', 'connectionist', 'manyika', 'argues', 'symbolic', 'approaches', 'dominated', 'push', 'artificial', 'intelligence', 'period', 'due', 'part', 'connection', 'intellectual', 'traditions', 'descarte', 'boole', 'gottlob', 'frege', 'bertrand', 'russell', 'others', 'connectionist', 'approaches', 'based', 'cybernetics', 'artificial', 'neural', 'networks', 'pushed', 'background', 'gained', 'new', 'prominence', 'recent', 'decades', 'field', 'ai', 'research', 'born', 'workshop', 'dartmouth', 'college', 'f', 'attendees', 'became', 'founders', 'leaders', 'ai', 'research', 'g', 'students', 'produced', 'programs', 'press', 'described', 'astonishing', 'h', 'computers', 'learning', 'checkers', 'strategies', 'solving', 'word', 'problems', 'algebra', 'proving', 'logical', 'theorems', 'speaking', 'english', 'middle', 'research', 'u', 'heavily', 'funded', 'department', 'defense', 'laboratories', 'established', 'around', 'world', 'researchers', 'convinced', 'symbolic', 'approaches', 'would', 'eventually', 'succeed', 'creating', 'machine', 'artificial', 'general', 'intelligence', 'considered', 'goal', 'field', 'herbert', 'simon', 'predicted', 'machines', 'capable', 'within', 'twenty', 'years', 'work', 'man', 'marvin', 'minsky', 'agreed', 'writing', 'within', 'generation', 'problem', 'creating', 'artificial', 'intelligence', 'substantially', 'solved', 'failed', 'recognize', 'difficulty', 'remaining', 'tasks', 'progress', 'slowed', 'response', 'criticism', 'sir', 'james', 'lighthill', 'ongoing', 'pressure', 'us', 'congress', 'fund', 'productive', 'projects', 'u', 'british', 'governments', 'cut', 'exploratory', 'research', 'ai', 'next', 'years', 'would', 'later', 'called', 'ai', 'winter', 'period', 'obtaining', 'funding', 'ai', 'projects', 'difficult', 'early', 'ai', 'research', 'revived', 'commercial', 'success', 'expert', 'systems', 'form', 'ai', 'program', 'simulated', 'knowledge', 'analytical', 'skills', 'human', 'experts', 'market', 'ai', 'reached', 'billion', 'dollars', 'time', 'japan', 'fifth', 'generation', 'computer', 'project', 'inspired', 'u', 'british', 'governments', 'restore', 'funding', 'academic', 'research', 'however', 'beginning', 'collapse', 'lisp', 'machine', 'market', 'ai', 'fell', 'disrepute', 'second', 'longer', 'lasting', 'winter', 'began', 'many', 'researchers', 'began', 'doubt', 'symbolic', 'approach', 'would', 'able', 'imitate', 'processes', 'human', 'cognition', 'especially', 'perception', 'robotics', 'learning', 'pattern', 'recognition', 'number', 'researchers', 'began', 'look', 'sub', 'symbolic', 'approaches', 'specific', 'ai', 'problems', 'robotics', 'researchers', 'rodney', 'brooks', 'rejected', 'symbolic', 'ai', 'focused', 'basic', 'engineering', 'problems', 'would', 'allow', 'robots', 'move', 'survive', 'learn', 'environment', 'j', 'interest', 'neural', 'networks', 'connectionism', 'revived', 'geoffrey', 'hinton', 'david', 'rumelhart', 'others', 'middle', 'soft', 'computing', 'tools', 'developed', 'neural', 'networks', 'fuzzy', 'systems', 'grey', 'system', 'theory', 'evolutionary', 'computation', 'many', 'tools', 'drawn', 'statistics', 'mathematical', 'optimization', 'ai', 'gradually', 'restored', 'reputation', 'late', 'early', 'st', 'century', 'finding', 'specific', 'solutions', 'specific', 'problems', 'narrow', 'focus', 'allowed', 'researchers', 'produce', 'verifiable', 'results', 'exploit', 'mathematical', 'methods', 'collaborate', 'fields', 'statistics', 'economics', 'mathematics', 'solutions', 'developed', 'ai', 'researchers', 'widely', 'used', 'although', 'rarely', 'described', 'artificial', 'intelligence', 'faster', 'computers', 'algorithmic', 'improvements', 'access', 'large', 'amounts', 'data', 'enabled', 'advances', 'machine', 'learning', 'perception', 'data', 'hungry', 'deep', 'learning', 'methods', 'started', 'dominate', 'accuracy', 'benchmarks', 'around', 'according', 'bloomberg', 'jack', 'clark', 'landmark', 'year', 'artificial', 'intelligence', 'number', 'software', 'projects', 'use', 'ai', 'within', 'google', 'increased', 'sporadic', 'usage', 'projects', 'k', 'attributes', 'increase', 'affordable', 'neural', 'networks', 'due', 'rise', 'cloud', 'computing', 'infrastructure', 'increase', 'research', 'tools', 'datasets', 'survey', 'one', 'five', 'companies', 'reported', 'incorporated', 'ai', 'offerings', 'processes', 'amount', 'research', 'ai', 'measured', 'total', 'publications', 'increased', 'years', 'numerous', 'academic', 'researchers', 'became', 'concerned', 'ai', 'longer', 'pursuing', 'original', 'goal', 'creating', 'versatile', 'fully', 'intelligent', 'machines', 'much', 'current', 'research', 'involves', 'statistical', 'ai', 'overwhelmingly', 'used', 'solve', 'specific', 'problems', 'even', 'highly', 'successful', 'techniques', 'deep', 'learning', 'concern', 'led', 'subfield', 'artificial', 'general', 'intelligence', 'agi', 'several', 'well', 'funded', 'institutions', 'general', 'problem', 'simulating', 'creating', 'intelligence', 'broken', 'sub', 'problems', 'consist', 'particular', 'traits', 'capabilities', 'researchers', 'expect', 'intelligent', 'system', 'display', 'traits', 'described', 'received', 'attention', 'c', 'early', 'researchers', 'developed', 'algorithms', 'imitated', 'step', 'step', 'reasoning', 'humans', 'use', 'solve', 'puzzles', 'make', 'logical', 'deductions', 'late', 'ai', 'research', 'developed', 'methods', 'dealing', 'uncertain', 'incomplete', 'information', 'employing', 'concepts', 'probability', 'economics', 'many', 'algorithms', 'proved', 'insufficient', 'solving', 'large', 'reasoning', 'problems', 'experienced', 'combinatorial', 'explosion', 'became', 'exponentially', 'slower', 'problems', 'grew', 'larger', 'even', 'humans', 'rarely', 'use', 'step', 'step', 'deduction', 'early', 'ai', 'research', 'could', 'model', 'solve', 'problems', 'using', 'fast', 'intuitive', 'judgments', 'knowledge', 'representation', 'knowledge', 'engineering', 'allow', 'ai', 'programs', 'answer', 'questions', 'intelligently', 'make', 'deductions', 'real', 'world', 'facts', 'representation', 'exists', 'ontology', 'set', 'objects', 'relations', 'concepts', 'properties', 'formally', 'described', 'software', 'agents', 'interpret', 'general', 'ontologies', 'called', 'upper', 'ontologies', 'attempt', 'provide', 'foundation', 'knowledge', 'act', 'mediators', 'domain', 'ontologies', 'cover', 'specific', 'knowledge', 'particular', 'knowledge', 'domain', 'field', 'interest', 'area', 'concern', 'truly', 'intelligent', 'program', 'would', 'also', 'need', 'access', 'commonsense', 'knowledge', 'set', 'facts', 'average', 'person', 'knows', 'semantics', 'ontology', 'typically', 'represented', 'description', 'logic', 'web', 'ontology', 'language', 'ai', 'research', 'developed', 'tools', 'represent', 'specific', 'domains', 'objects', 'properties', 'categories', 'relations', 'objects', 'situations', 'events', 'states', 'time', 'causes', 'effects', 'knowledge', 'knowledge', 'know', 'people', 'know', 'default', 'reasoning', 'things', 'humans', 'assume', 'true', 'told', 'differently', 'remain', 'true', 'even', 'facts', 'changing', 'well', 'domains', 'among', 'difficult', 'problems', 'ai', 'breadth', 'commonsense', 'knowledge', 'number', 'atomic', 'facts', 'average', 'person', 'knows', 'enormous', 'sub', 'symbolic', 'form', 'commonsense', 'knowledge', 'much', 'people', 'know', 'represented', 'facts', 'statements', 'could', 'express', 'verbally', 'formal', 'knowledge', 'representations', 'used', 'content', 'based', 'indexing', 'retrieval', 'scene', 'interpretation', 'clinical', 'decision', 'support', 'knowledge', 'discovery', 'mining', 'interesting', 'actionable', 'inferences', 'large', 'databases', 'areas', 'intelligent', 'agent', 'plan', 'makes', 'representation', 'state', 'world', 'makes', 'predictions', 'actions', 'change', 'make', 'choices', 'maximize', 'utility', 'value', 'available', 'choices', 'classical', 'planning', 'problems', 'agent', 'assume', 'system', 'acting', 'world', 'allowing', 'agent', 'certain', 'consequences', 'actions', 'however', 'agent', 'actor', 'requires', 'agent', 'reason', 'uncertainty', 'continuously', 'assess', 'environment', 'adapt', 'multi', 'agent', 'planning', 'uses', 'cooperation', 'competition', 'many', 'agents', 'achieve', 'given', 'goal', 'emergent', 'behavior', 'used', 'evolutionary', 'algorithms', 'swarm', 'intelligence', 'machine', 'learning', 'ml', 'fundamental', 'concept', 'ai', 'research', 'since', 'field', 'inception', 'l', 'study', 'computer', 'algorithms', 'improve', 'automatically', 'experience', 'unsupervised', 'learning', 'finds', 'patterns', 'stream', 'input', 'supervised', 'learning', 'requires', 'human', 'label', 'input', 'data', 'first', 'comes', 'two', 'main', 'varieties', 'classification', 'numerical', 'regression', 'classification', 'used', 'determine', 'category', 'something', 'belongs', 'program', 'sees', 'number', 'examples', 'things', 'several', 'categories', 'learn', 'classify', 'new', 'inputs', 'regression', 'attempt', 'produce', 'function', 'describes', 'relationship', 'inputs', 'outputs', 'predicts', 'outputs', 'change', 'inputs', 'change', 'classifiers', 'regression', 'learners', 'viewed', 'function', 'approximators', 'trying', 'learn', 'unknown', 'possibly', 'implicit', 'function', 'example', 'spam', 'classifier', 'viewed', 'learning', 'function', 'maps', 'text', 'email', 'one', 'two', 'categories', 'spam', 'spam', 'reinforcement', 'learning', 'agent', 'rewarded', 'good', 'responses', 'punished', 'bad', 'ones', 'agent', 'classifies', 'responses', 'form', 'strategy', 'operating', 'problem', 'space', 'transfer', 'learning', 'knowledge', 'gained', 'one', 'problem', 'applied', 'new', 'problem', 'computational', 'learning', 'theory', 'assess', 'learners', 'computational', 'complexity', 'sample', 'complexity', 'much', 'data', 'required', 'notions', 'optimization', 'natural', 'language', 'processing', 'nlp', 'allows', 'machines', 'read', 'understand', 'human', 'language', 'sufficiently', 'powerful', 'natural', 'language', 'processing', 'system', 'would', 'enable', 'natural', 'language', 'user', 'interfaces', 'acquisition', 'knowledge', 'directly', 'human', 'written', 'sources', 'newswire', 'texts', 'straightforward', 'applications', 'nlp', 'include', 'information', 'retrieval', 'question', 'answering', 'machine', 'translation', 'symbolic', 'ai', 'used', 'formal', 'syntax', 'translate', 'deep', 'structure', 'sentences', 'logic', 'failed', 'produce', 'useful', 'applications', 'due', 'intractability', 'logic', 'breadth', 'commonsense', 'knowledge', 'modern', 'statistical', 'techniques', 'include', 'co', 'occurrence', 'frequencies', 'often', 'one', 'word', 'appears', 'near', 'another', 'keyword', 'spotting', 'searching', 'particular', 'word', 'retrieve', 'information', 'transformer', 'based', 'deep', 'learning', 'finds', 'patterns', 'text', 'others', 'achieved', 'acceptable', 'accuracy', 'page', 'paragraph', 'level', 'could', 'generate', 'coherent', 'text', 'machine', 'perception', 'ability', 'use', 'input', 'sensors', 'cameras', 'microphones', 'wireless', 'signals', 'active', 'lidar', 'sonar', 'radar', 'tactile', 'sensors', 'deduce', 'aspects', 'world', 'applications', 'include', 'speech', 'recognition', 'facial', 'recognition', 'object', 'recognition', 'computer', 'vision', 'ability', 'analyze', 'visual', 'input', 'ai', 'heavily', 'used', 'robotics', 'localization', 'robot', 'knows', 'location', 'maps', 'environment', 'given', 'small', 'static', 'visible', 'environment', 'easy', 'however', 'dynamic', 'environments', 'endoscopy', 'interior', 'patient', 'breathing', 'body', 'pose', 'greater', 'challenge', 'motion', 'planning', 'process', 'breaking', 'movement', 'task', 'primitives', 'individual', 'joint', 'movements', 'movement', 'often', 'involves', 'compliant', 'motion', 'process', 'movement', 'requires', 'maintaining', 'physical', 'contact', 'object', 'robots', 'learn', 'experience', 'move', 'efficiently', 'despite', 'presence', 'friction', 'gear', 'slippage', 'affective', 'computing', 'interdisciplinary', 'umbrella', 'comprises', 'systems', 'recognize', 'interpret', 'process', 'simulate', 'human', 'feeling', 'emotion', 'mood', 'example', 'virtual', 'assistants', 'programmed', 'speak', 'conversationally', 'even', 'banter', 'humorously', 'makes', 'appear', 'sensitive', 'emotional', 'dynamics', 'human', 'interaction', 'otherwise', 'facilitate', 'human', 'computer', 'interaction', 'however', 'tends', 'give', 'na', 'users', 'unrealistic', 'conception', 'intelligent', 'existing', 'computer', 'agents', 'actually', 'moderate', 'successes', 'related', 'affective', 'computing', 'include', 'textual', 'sentiment', 'analysis', 'recently', 'multimodal', 'sentiment', 'analysis', 'wherein', 'ai', 'classifies', 'affects', 'displayed', 'videotaped', 'subject', 'machine', 'general', 'intelligence', 'solve', 'wide', 'variety', 'problems', 'breadth', 'versatility', 'similar', 'human', 'intelligence', 'several', 'competing', 'ideas', 'develop', 'artificial', 'general', 'intelligence', 'hans', 'moravec', 'marvin', 'minsky', 'argue', 'work', 'different', 'individual', 'domains', 'incorporated', 'advanced', 'multi', 'agent', 'system', 'cognitive', 'architecture', 'general', 'intelligence', 'pedro', 'domingos', 'hopes', 'conceptually', 'straightforward', 'mathematically', 'difficult', 'master', 'algorithm', 'could', 'lead', 'agi', 'others', 'believe', 'anthropomorphic', 'features', 'like', 'artificial', 'brain', 'simulated', 'child', 'development', 'n', 'someday', 'reach', 'critical', 'point', 'general', 'intelligence', 'emerges', 'many', 'problems', 'ai', 'solved', 'theoretically', 'intelligently', 'searching', 'many', 'possible', 'solutions', 'reasoning', 'reduced', 'performing', 'search', 'example', 'logical', 'proof', 'viewed', 'searching', 'path', 'leads', 'premises', 'conclusions', 'step', 'application', 'inference', 'rule', 'planning', 'algorithms', 'search', 'trees', 'goals', 'subgoals', 'attempting', 'find', 'path', 'target', 'goal', 'process', 'called', 'means', 'ends', 'analysis', 'robotics', 'algorithms', 'moving', 'limbs', 'grasping', 'objects', 'use', 'local', 'searches', 'configuration', 'space', 'simple', 'exhaustive', 'searches', 'rarely', 'sufficient', 'real', 'world', 'problems', 'search', 'space', 'number', 'places', 'search', 'quickly', 'grows', 'astronomical', 'numbers', 'result', 'search', 'slow', 'never', 'completes', 'solution', 'many', 'problems', 'use', 'heuristics', 'rules', 'thumb', 'prioritize', 'choices', 'favor', 'likely', 'reach', 'goal', 'shorter', 'number', 'steps', 'search', 'methodologies', 'heuristics', 'also', 'serve', 'eliminate', 'choices', 'unlikely', 'lead', 'goal', 'called', 'pruning', 'search', 'tree', 'heuristics', 'supply', 'program', 'best', 'guess', 'path', 'solution', 'lies', 'heuristics', 'limit', 'search', 'solutions', 'smaller', 'sample', 'size', 'different', 'kind', 'search', 'came', 'prominence', 'based', 'mathematical', 'theory', 'optimization', 'many', 'problems', 'possible', 'begin', 'search', 'form', 'guess', 'refine', 'guess', 'incrementally', 'refinements', 'made', 'algorithms', 'visualized', 'blind', 'hill', 'climbing', 'begin', 'search', 'random', 'point', 'landscape', 'jumps', 'steps', 'keep', 'moving', 'guess', 'uphill', 'reach', 'top', 'related', 'optimization', 'algorithms', 'include', 'random', 'optimization', 'beam', 'search', 'metaheuristics', 'like', 'simulated', 'annealing', 'evolutionary', 'computation', 'uses', 'form', 'optimization', 'search', 'example', 'may', 'begin', 'population', 'organisms', 'guesses', 'allow', 'mutate', 'recombine', 'selecting', 'fittest', 'survive', 'generation', 'refining', 'guesses', 'classic', 'evolutionary', 'algorithms', 'include', 'genetic', 'algorithms', 'gene', 'expression', 'programming', 'genetic', 'programming', 'alternatively', 'distributed', 'search', 'processes', 'coordinate', 'via', 'swarm', 'intelligence', 'algorithms', 'two', 'popular', 'swarm', 'algorithms', 'used', 'search', 'particle', 'swarm', 'optimization', 'inspired', 'bird', 'flocking', 'ant', 'colony', 'optimization', 'inspired', 'ant', 'trails', 'logic', 'used', 'knowledge', 'representation', 'problem', 'solving', 'applied', 'problems', 'well', 'example', 'satplan', 'algorithm', 'uses', 'logic', 'planning', 'inductive', 'logic', 'programming', 'method', 'learning', 'several', 'different', 'forms', 'logic', 'used', 'ai', 'research', 'propositional', 'logic', 'involves', 'truth', 'functions', 'first', 'order', 'logic', 'adds', 'quantifiers', 'predicates', 'express', 'facts', 'objects', 'properties', 'relations', 'fuzzy', 'logic', 'assigns', 'degree', 'truth', 'vague', 'statements', 'alice', 'old', 'rich', 'tall', 'hungry', 'linguistically', 'imprecise', 'completely', 'true', 'false', 'default', 'logics', 'non', 'monotonic', 'logics', 'circumscription', 'forms', 'logic', 'designed', 'help', 'default', 'reasoning', 'qualification', 'problem', 'several', 'extensions', 'logic', 'designed', 'handle', 'specific', 'domains', 'knowledge', 'description', 'logics', 'situation', 'calculus', 'event', 'calculus', 'fluent', 'calculus', 'representing', 'events', 'time', 'causal', 'calculus', 'belief', 'calculus', 'belief', 'revision', 'modal', 'logics', 'logics', 'model', 'contradictory', 'inconsistent', 'statements', 'arising', 'multi', 'agent', 'systems', 'also', 'designed', 'paraconsistent', 'logics', 'many', 'problems', 'ai', 'including', 'reasoning', 'planning', 'learning', 'perception', 'robotics', 'require', 'agent', 'operate', 'incomplete', 'uncertain', 'information', 'ai', 'researchers', 'devised', 'number', 'tools', 'solve', 'problems', 'using', 'methods', 'probability', 'theory', 'economics', 'bayesian', 'networks', 'general', 'tool', 'used', 'various', 'problems', 'including', 'reasoning', 'using', 'bayesian', 'inference', 'algorithm', 'learning', 'using', 'expectation', 'maximization', 'algorithm', 'p', 'planning', 'using', 'decision', 'networks', 'perception', 'using', 'dynamic', 'bayesian', 'networks', 'probabilistic', 'algorithms', 'also', 'used', 'filtering', 'prediction', 'smoothing', 'finding', 'explanations', 'streams', 'data', 'helping', 'perception', 'systems', 'analyze', 'processes', 'occur', 'time', 'e', 'g', 'hidden', 'markov', 'models', 'kalman', 'filters', 'key', 'concept', 'science', 'economics', 'utility', 'measure', 'valuable', 'something', 'intelligent', 'agent', 'precise', 'mathematical', 'tools', 'developed', 'analyze', 'agent', 'make', 'choices', 'plan', 'using', 'decision', 'theory', 'decision', 'analysis', 'information', 'value', 'theory', 'tools', 'include', 'models', 'markov', 'decision', 'processes', 'dynamic', 'decision', 'networks', 'game', 'theory', 'mechanism', 'design', 'simplest', 'ai', 'applications', 'divided', 'two', 'types', 'classifiers', 'shiny', 'diamond', 'controllers', 'diamond', 'pick', 'controllers', 'however', 'also', 'classify', 'conditions', 'inferring', 'actions', 'therefore', 'classification', 'forms', 'central', 'part', 'many', 'ai', 'systems', 'classifiers', 'functions', 'use', 'pattern', 'matching', 'determine', 'closest', 'match', 'tuned', 'according', 'examples', 'making', 'attractive', 'use', 'ai', 'examples', 'known', 'observations', 'patterns', 'supervised', 'learning', 'pattern', 'belongs', 'certain', 'predefined', 'class', 'class', 'decision', 'made', 'observations', 'combined', 'class', 'labels', 'known', 'data', 'set', 'new', 'observation', 'received', 'observation', 'classified', 'based', 'previous', 'experience', 'classifier', 'trained', 'various', 'ways', 'many', 'statistical', 'machine', 'learning', 'approaches', 'decision', 'tree', 'simplest', 'widely', 'used', 'symbolic', 'machine', 'learning', 'algorithm', 'k', 'nearest', 'neighbor', 'algorithm', 'widely', 'used', 'analogical', 'ai', 'mid', 'kernel', 'methods', 'support', 'vector', 'machine', 'svm', 'displaced', 'k', 'nearest', 'neighbor', 'naive', 'bayes', 'classifier', 'reportedly', 'widely', 'used', 'learner', 'google', 'due', 'part', 'scalability', 'neural', 'networks', 'also', 'used', 'classification', 'classifier', 'performance', 'depends', 'greatly', 'characteristics', 'data', 'classified', 'dataset', 'size', 'distribution', 'samples', 'across', 'classes', 'dimensionality', 'level', 'noise', 'model', 'based', 'classifiers', 'perform', 'well', 'assumed', 'model', 'extremely', 'good', 'fit', 'actual', 'data', 'otherwise', 'matching', 'model', 'available', 'accuracy', 'rather', 'speed', 'scalability', 'sole', 'concern', 'conventional', 'wisdom', 'discriminative', 'classifiers', 'especially', 'svm', 'tend', 'accurate', 'model', 'based', 'classifiers', 'naive', 'bayes', 'practical', 'data', 'sets', 'neural', 'networks', 'inspired', 'architecture', 'neurons', 'human', 'brain', 'simple', 'neuron', 'n', 'accepts', 'input', 'neurons', 'activated', 'fired', 'casts', 'weighted', 'vote', 'whether', 'neuron', 'n', 'activate', 'learning', 'requires', 'algorithm', 'adjust', 'weights', 'based', 'training', 'data', 'one', 'simple', 'algorithm', 'dubbed', 'fire', 'together', 'wire', 'together', 'increase', 'weight', 'two', 'connected', 'neurons', 'activation', 'one', 'triggers', 'successful', 'activation', 'another', 'neurons', 'continuous', 'spectrum', 'activation', 'addition', 'neurons', 'process', 'inputs', 'nonlinear', 'way', 'rather', 'weighing', 'straightforward', 'votes', 'modern', 'neural', 'networks', 'model', 'complex', 'relationships', 'inputs', 'outputs', 'find', 'patterns', 'data', 'learn', 'continuous', 'functions', 'even', 'digital', 'logical', 'operations', 'neural', 'networks', 'viewed', 'type', 'mathematical', 'optimization', 'perform', 'gradient', 'descent', 'multi', 'dimensional', 'topology', 'created', 'training', 'network', 'common', 'training', 'technique', 'backpropagation', 'algorithm', 'learning', 'techniques', 'neural', 'networks', 'hebbian', 'learning', 'fire', 'together', 'wire', 'together', 'gmdh', 'competitive', 'learning', 'main', 'categories', 'networks', 'acyclic', 'feedforward', 'neural', 'networks', 'signal', 'passes', 'one', 'direction', 'recurrent', 'neural', 'networks', 'allow', 'feedback', 'short', 'term', 'memories', 'previous', 'input', 'events', 'among', 'popular', 'feedforward', 'networks', 'perceptrons', 'multi', 'layer', 'perceptrons', 'radial', 'basis', 'networks', 'deep', 'learning', 'uses', 'several', 'layers', 'neurons', 'network', 'inputs', 'outputs', 'multiple', 'layers', 'progressively', 'extract', 'higher', 'level', 'features', 'raw', 'input', 'example', 'image', 'processing', 'lower', 'layers', 'may', 'identify', 'edges', 'higher', 'layers', 'may', 'identify', 'concepts', 'relevant', 'human', 'digits', 'letters', 'faces', 'deep', 'learning', 'drastically', 'improved', 'performance', 'programs', 'many', 'important', 'subfields', 'artificial', 'intelligence', 'including', 'computer', 'vision', 'speech', 'recognition', 'image', 'classification', 'others', 'deep', 'learning', 'often', 'uses', 'convolutional', 'neural', 'networks', 'many', 'layers', 'convolutional', 'layer', 'neuron', 'receives', 'input', 'restricted', 'area', 'previous', 'layer', 'called', 'neuron', 'receptive', 'field', 'substantially', 'reduce', 'number', 'weighted', 'connections', 'neurons', 'creates', 'hierarchy', 'similar', 'organization', 'animal', 'visual', 'cortex', 'recurrent', 'neural', 'network', 'rnn', 'signal', 'propagate', 'layer', 'thus', 'rnn', 'example', 'deep', 'learning', 'rnns', 'trained', 'gradient', 'descent', 'however', 'long', 'term', 'gradients', 'back', 'propagated', 'vanish', 'tend', 'zero', 'explode', 'tend', 'infinity', 'known', 'vanishing', 'gradient', 'problem', 'long', 'short', 'term', 'memory', 'lstm', 'technique', 'prevent', 'cases', 'specialized', 'languages', 'artificial', 'intelligence', 'developed', 'lisp', 'prolog', 'tensorflow', 'many', 'others', 'hardware', 'developed', 'ai', 'includes', 'ai', 'accelerators', 'neuromorphic', 'computing', 'ai', 'relevant', 'intellectual', 'task', 'modern', 'artificial', 'intelligence', 'techniques', 'pervasive', 'numerous', 'list', 'frequently', 'technique', 'reaches', 'mainstream', 'use', 'longer', 'considered', 'artificial', 'intelligence', 'phenomenon', 'described', 'ai', 'effect', 'ai', 'applications', 'heart', 'commercially', 'successful', 'areas', 'computing', 'become', 'ubiquitous', 'feature', 'daily', 'life', 'ai', 'used', 'search', 'engines', 'google', 'search', 'targeting', 'online', 'advertisements', 'recommendation', 'systems', 'offered', 'netflix', 'youtube', 'amazon', 'driving', 'internet', 'traffic', 'targeted', 'advertising', 'adsense', 'facebook', 'virtual', 'assistants', 'siri', 'alexa', 'autonomous', 'vehicles', 'including', 'drones', 'self', 'driving', 'cars', 'automatic', 'language', 'translation', 'microsoft', 'translator', 'google', 'translate', 'facial', 'recognition', 'apple', 'face', 'id', 'microsoft', 'deepface', 'image', 'labeling', 'used', 'facebook', 'apple', 'iphoto', 'tiktok', 'spam', 'filtering', 'also', 'thousands', 'successful', 'ai', 'applications', 'used', 'solve', 'problems', 'specific', 'industries', 'institutions', 'examples', 'energy', 'storage', 'deepfakes', 'medical', 'diagnosis', 'military', 'logistics', 'supply', 'chain', 'management', 'game', 'playing', 'test', 'ai', 'strength', 'since', 'deep', 'blue', 'became', 'first', 'computer', 'chess', 'playing', 'system', 'beat', 'reigning', 'world', 'chess', 'champion', 'garry', 'kasparov', 'may', 'jeopardy', 'quiz', 'show', 'exhibition', 'match', 'ibm', 'question', 'answering', 'system', 'watson', 'defeated', 'two', 'greatest', 'jeopardy', 'champions', 'brad', 'rutter', 'ken', 'jennings', 'significant', 'margin', 'march', 'alphago', 'games', 'go', 'match', 'go', 'champion', 'lee', 'sedol', 'becoming', 'first', 'computer', 'go', 'playing', 'system', 'beat', 'professional', 'go', 'player', 'without', 'handicaps', 'programs', 'handle', 'imperfect', 'information', 'games', 'poker', 'superhuman', 'level', 'pluribus', 'q', 'cepheus', 'deepmind', 'developed', 'generalized', 'artificial', 'intelligence', 'could', 'learn', 'many', 'diverse', 'atari', 'games', 'natural', 'language', 'processing', 'systems', 'enormous', 'gpt', 'far', 'largest', 'artificial', 'neural', 'network', 'matching', 'human', 'performance', 'pre', 'existing', 'benchmarks', 'albeit', 'without', 'system', 'attaining', 'commonsense', 'understanding', 'contents', 'benchmarks', 'deepmind', 'alphafold', 'demonstrated', 'ability', 'approximate', 'hours', 'rather', 'months', 'structure', 'protein', 'applications', 'predict', 'result', 'judicial', 'decisions', 'create', 'art', 'poetry', 'painting', 'prove', 'mathematical', 'theorems', 'wipo', 'reported', 'ai', 'prolific', 'emerging', 'technology', 'terms', 'number', 'patent', 'applications', 'granted', 'patents', 'internet', 'things', 'estimated', 'largest', 'terms', 'market', 'size', 'followed', 'market', 'size', 'big', 'data', 'technologies', 'robotics', 'ai', 'printing', 'fifth', 'generation', 'mobile', 'services', 'g', 'since', 'ai', 'emerged', 'ai', 'related', 'patent', 'applications', 'filed', 'innovators', 'million', 'scientific', 'papers', 'published', 'researchers', 'majority', 'ai', 'related', 'patent', 'filings', 'published', 'since', 'companies', 'represent', 'top', 'ai', 'patent', 'applicants', 'universities', 'public', 'research', 'organizations', 'accounting', 'remaining', 'four', 'ratio', 'scientific', 'papers', 'inventions', 'significantly', 'decreased', 'attributed', 'indicative', 'shift', 'theoretical', 'research', 'use', 'ai', 'technologies', 'commercial', 'products', 'services', 'machine', 'learning', 'dominant', 'ai', 'technique', 'disclosed', 'patents', 'included', 'one', 'third', 'identified', 'inventions', 'machine', 'learning', 'patents', 'filed', 'total', 'ai', 'patents', 'filed', 'computer', 'vision', 'popular', 'functional', 'application', 'ai', 'related', 'patents', 'disclose', 'ai', 'techniques', 'applications', 'often', 'also', 'refer', 'application', 'field', 'industry', 'twenty', 'application', 'fields', 'identified', 'included', 'order', 'magnitude', 'telecommunications', 'percent', 'transportation', 'percent', 'life', 'medical', 'sciences', 'percent', 'personal', 'devices', 'computing', 'human', 'computer', 'interaction', 'percent', 'sectors', 'included', 'banking', 'entertainment', 'security', 'industry', 'manufacturing', 'agriculture', 'networks', 'including', 'social', 'networks', 'smart', 'cities', 'internet', 'things', 'ibm', 'largest', 'portfolio', 'ai', 'patents', 'patent', 'applications', 'followed', 'microsoft', 'patent', 'applications', 'ai', 'decisions', 'making', 'abilities', 'raises', 'questions', 'legal', 'responsibility', 'copyright', 'status', 'created', 'works', 'issues', 'refined', 'various', 'jurisdictions', 'alan', 'turing', 'wrote', 'propose', 'consider', 'question', 'machines', 'think', 'advised', 'changing', 'question', 'whether', 'machine', 'thinks', 'whether', 'possible', 'machinery', 'show', 'intelligent', 'behaviour', 'thing', 'visible', 'behavior', 'machine', 'matter', 'machine', 'conscious', 'mind', 'whether', 'intelligence', 'merely', 'simulation', 'real', 'thing', 'noted', 'also', 'know', 'things', 'people', 'extend', 'polite', 'convention', 'actually', 'thinking', 'idea', 'forms', 'basis', 'turing', 'test', 'r', 'ai', 'founder', 'john', 'mccarthy', 'said', 'artificial', 'intelligence', 'definition', 'simulation', 'human', 'intelligence', 'russell', 'norvig', 'agree', 'criticize', 'turing', 'test', 'wrote', 'aeronautical', 'engineering', 'texts', 'define', 'goal', 'field', 'making', 'machines', 'fly', 'exactly', 'like', 'pigeons', 'fool', 'pigeons', 'researchers', 'analysts', 'disagree', 'exclusive', 'adoption', 'separate', 'definition', 'intelligence', 'argued', 'ai', 'simulate', 'human', 'intelligence', 'studying', 'psychology', 'neurobiology', 'intelligent', 'agent', 'paradigm', 'defines', 'intelligent', 'behavior', 'general', 'without', 'reference', 'human', 'beings', 'intelligent', 'agent', 'system', 'perceives', 'environment', 'takes', 'actions', 'maximize', 'chances', 'success', 'system', 'goal', 'directed', 'behavior', 'analyzed', 'intelligent', 'agent', 'something', 'simple', 'thermostat', 'complex', 'human', 'well', 'large', 'systems', 'firms', 'biomes', 'nations', 'intelligent', 'agent', 'paradigm', 'became', 'widely', 'accepted', 'currently', 'serves', 'definition', 'field', 'intelligent', 'agent', 'paradigm', 'advantages', 'ai', 'provides', 'reliable', 'scientific', 'way', 'test', 'programs', 'researchers', 'directly', 'compare', 'even', 'combine', 'different', 'approaches', 'isolated', 'problems', 'asking', 'agent', 'best', 'maximizing', 'given', 'goal', 'function', 'also', 'gives', 'common', 'language', 'communicate', 'fields', 'mathematical', 'optimization', 'defined', 'terms', 'goals', 'economics', 'uses', 'definition', 'rational', 'agent', 'established', 'unifying', 'theory', 'paradigm', 'guided', 'ai', 'research', 'history', 'unprecedented', 'success', 'statistical', 'machine', 'learning', 'eclipsed', 'approaches', 'much', 'sources', 'especially', 'business', 'world', 'use', 'term', 'artificial', 'intelligence', 'mean', 'machine', 'learning', 'neural', 'networks', 'approach', 'mostly', 'sub', 'symbolic', 'neat', 'soft', 'narrow', 'see', 'critics', 'argue', 'questions', 'may', 'revisited', 'future', 'generations', 'ai', 'researchers', 'symbolic', 'ai', 'gofai', 'simulated', 'high', 'level', 'conscious', 'reasoning', 'people', 'use', 'solve', 'puzzles', 'express', 'legal', 'reasoning', 'mathematics', 'highly', 'successful', 'intelligent', 'tasks', 'algebra', 'iq', 'tests', 'newell', 'simon', 'proposed', 'physical', 'symbol', 'systems', 'hypothesis', 'physical', 'symbol', 'system', 'necessary', 'sufficient', 'means', 'general', 'intelligent', 'action', 'however', 'symbolic', 'approach', 'failed', 'dismally', 'many', 'tasks', 'humans', 'solve', 'easily', 'learning', 'recognizing', 'object', 'commonsense', 'reasoning', 'moravec', 'paradox', 'discovery', 'high', 'level', 'intelligent', 'tasks', 'easy', 'ai', 'low', 'level', 'instinctive', 'tasks', 'extremely', 'difficult', 'philosopher', 'hubert', 'dreyfus', 'argued', 'since', 'human', 'expertise', 'depends', 'unconscious', 'instinct', 'rather', 'conscious', 'symbol', 'manipulation', 'feel', 'situation', 'rather', 'explicit', 'symbolic', 'knowledge', 'although', 'arguments', 'ridiculed', 'ignored', 'first', 'presented', 'eventually', 'ai', 'research', 'came', 'agree', 'u', 'issue', 'resolved', 'sub', 'symbolic', 'reasoning', 'make', 'many', 'inscrutable', 'mistakes', 'human', 'intuition', 'algorithmic', 'bias', 'critics', 'noam', 'chomsky', 'argue', 'continuing', 'research', 'symbolic', 'ai', 'still', 'necessary', 'attain', 'general', 'intelligence', 'part', 'sub', 'symbolic', 'ai', 'move', 'away', 'explainable', 'ai', 'difficult', 'impossible', 'understand', 'modern', 'statistical', 'ai', 'program', 'made', 'particular', 'decision', 'neats', 'hope', 'intelligent', 'behavior', 'described', 'using', 'simple', 'elegant', 'principles', 'logic', 'optimization', 'neural', 'networks', 'scruffies', 'expect', 'necessarily', 'requires', 'solving', 'large', 'number', 'unrelated', 'problems', 'issue', 'actively', 'discussed', 'mathematical', 'methods', 'solid', 'scientific', 'standards', 'became', 'norm', 'transition', 'russell', 'norvig', 'termed', 'victory', 'neats', 'finding', 'provably', 'correct', 'optimal', 'solution', 'intractable', 'many', 'important', 'problems', 'soft', 'computing', 'set', 'techniques', 'including', 'genetic', 'algorithms', 'fuzzy', 'logic', 'neural', 'networks', 'tolerant', 'imprecision', 'uncertainty', 'partial', 'truth', 'approximation', 'soft', 'computing', 'introduced', 'late', 'successful', 'ai', 'programs', 'st', 'century', 'examples', 'soft', 'computing', 'neural', 'networks', 'ai', 'researchers', 'divided', 'whether', 'pursue', 'goals', 'artificial', 'general', 'intelligence', 'superintelligence', 'general', 'ai', 'directly', 'solve', 'many', 'specific', 'problems', 'possible', 'narrow', 'ai', 'hopes', 'solutions', 'lead', 'indirectly', 'field', 'long', 'term', 'goals', 'general', 'intelligence', 'difficult', 'define', 'difficult', 'measure', 'modern', 'ai', 'verifiable', 'successes', 'focussing', 'specific', 'problems', 'specific', 'solutions', 'experimental', 'sub', 'field', 'artificial', 'general', 'intelligence', 'studies', 'area', 'exclusively', 'philosophy', 'mind', 'know', 'whether', 'machine', 'mind', 'consciousness', 'mental', 'states', 'sense', 'human', 'beings', 'issue', 'considers', 'internal', 'experiences', 'machine', 'rather', 'external', 'behavior', 'mainstream', 'ai', 'research', 'considers', 'issue', 'irrelevant', 'affect', 'goals', 'field', 'stuart', 'russell', 'peter', 'norvig', 'observe', 'ai', 'researchers', 'care', 'philosophy', 'ai', 'long', 'program', 'works', 'care', 'whether', 'call', 'simulation', 'intelligence', 'real', 'intelligence', 'however', 'question', 'become', 'central', 'philosophy', 'mind', 'also', 'typically', 'central', 'question', 'issue', 'artificial', 'intelligence', 'fiction', 'david', 'chalmers', 'identified', 'two', 'problems', 'understanding', 'mind', 'named', 'hard', 'easy', 'problems', 'consciousness', 'easy', 'problem', 'understanding', 'brain', 'processes', 'signals', 'makes', 'plans', 'controls', 'behavior', 'hard', 'problem', 'explaining', 'feels', 'feel', 'like', 'anything', 'human', 'information', 'processing', 'easy', 'explain', 'however', 'human', 'subjective', 'experience', 'difficult', 'explain', 'example', 'easy', 'imagine', 'color', 'blind', 'person', 'learned', 'identify', 'objects', 'field', 'view', 'red', 'clear', 'would', 'required', 'person', 'know', 'red', 'looks', 'like', 'computationalism', 'position', 'philosophy', 'mind', 'human', 'mind', 'information', 'processing', 'system', 'thinking', 'form', 'computing', 'computationalism', 'argues', 'relationship', 'mind', 'body', 'similar', 'identical', 'relationship', 'software', 'hardware', 'thus', 'may', 'solution', 'mind', 'body', 'problem', 'philosophical', 'position', 'inspired', 'work', 'ai', 'researchers', 'cognitive', 'scientists', 'originally', 'proposed', 'philosophers', 'jerry', 'fodor', 'hilary', 'putnam', 'philosopher', 'john', 'searle', 'characterized', 'position', 'strong', 'ai', 'appropriately', 'programmed', 'computer', 'right', 'inputs', 'outputs', 'would', 'thereby', 'mind', 'exactly', 'sense', 'human', 'beings', 'minds', 'v', 'searle', 'counters', 'assertion', 'chinese', 'room', 'argument', 'attempts', 'show', 'even', 'machine', 'perfectly', 'simulates', 'human', 'behavior', 'still', 'reason', 'suppose', 'also', 'mind', 'machine', 'mind', 'subjective', 'experience', 'may', 'also', 'sentience', 'ability', 'feel', 'could', 'also', 'suffer', 'thus', 'would', 'entitled', 'certain', 'rights', 'hypothetical', 'robot', 'rights', 'would', 'lie', 'spectrum', 'animal', 'rights', 'human', 'rights', 'issue', 'considered', 'fiction', 'centuries', 'considered', 'example', 'california', 'institute', 'future', 'however', 'critics', 'argue', 'discussion', 'premature', 'superintelligence', 'hyperintelligence', 'superhuman', 'intelligence', 'hypothetical', 'agent', 'would', 'possess', 'intelligence', 'far', 'surpassing', 'brightest', 'gifted', 'human', 'mind', 'superintelligence', 'may', 'also', 'refer', 'form', 'degree', 'intelligence', 'possessed', 'agent', 'research', 'artificial', 'general', 'intelligence', 'produced', 'sufficiently', 'intelligent', 'software', 'might', 'able', 'reprogram', 'improve', 'improved', 'software', 'would', 'even', 'better', 'improving', 'leading', 'recursive', 'self', 'improvement', 'intelligence', 'would', 'increase', 'exponentially', 'intelligence', 'explosion', 'could', 'dramatically', 'surpass', 'humans', 'science', 'fiction', 'writer', 'vernor', 'vinge', 'named', 'scenario', 'singularity', 'difficult', 'impossible', 'know', 'limits', 'intelligence', 'capabilities', 'superintelligent', 'machines', 'technological', 'singularity', 'occurrence', 'beyond', 'events', 'unpredictable', 'even', 'unfathomable', 'robot', 'designer', 'hans', 'moravec', 'cyberneticist', 'kevin', 'warwick', 'inventor', 'ray', 'kurzweil', 'predicted', 'humans', 'machines', 'merge', 'future', 'cyborgs', 'capable', 'powerful', 'either', 'idea', 'called', 'transhumanism', 'roots', 'aldous', 'huxley', 'robert', 'ettinger', 'edward', 'fredkin', 'argues', 'artificial', 'intelligence', 'next', 'stage', 'evolution', 'idea', 'first', 'proposed', 'samuel', 'butler', 'darwin', 'among', 'machines', 'far', 'back', 'expanded', 'upon', 'george', 'dyson', 'book', 'name', 'past', 'technology', 'tended', 'increase', 'rather', 'reduce', 'total', 'employment', 'economists', 'acknowledge', 'uncharted', 'territory', 'ai', 'survey', 'economists', 'showed', 'disagreement', 'whether', 'increasing', 'use', 'robots', 'ai', 'cause', 'substantial', 'increase', 'long', 'term', 'unemployment', 'generally', 'agree', 'could', 'net', 'benefit', 'productivity', 'gains', 'redistributed', 'subjective', 'estimates', 'risk', 'vary', 'widely', 'example', 'michael', 'osborne', 'carl', 'benedikt', 'frey', 'estimate', 'u', 'jobs', 'high', 'risk', 'potential', 'automation', 'oecd', 'report', 'classifies', 'u', 'jobs', 'high', 'risk', 'w', 'unlike', 'previous', 'waves', 'automation', 'many', 'middle', 'class', 'jobs', 'may', 'eliminated', 'artificial', 'intelligence', 'economist', 'states', 'worry', 'ai', 'could', 'white', 'collar', 'jobs', 'steam', 'power', 'blue', 'collar', 'ones', 'industrial', 'revolution', 'worth', 'taking', 'seriously', 'jobs', 'extreme', 'risk', 'range', 'paralegals', 'fast', 'food', 'cooks', 'job', 'demand', 'likely', 'increase', 'care', 'related', 'professions', 'ranging', 'personal', 'healthcare', 'clergy', 'ai', 'provides', 'number', 'tools', 'particularly', 'useful', 'authoritarian', 'governments', 'smart', 'spyware', 'face', 'recognition', 'voice', 'recognition', 'allow', 'widespread', 'surveillance', 'surveillance', 'allows', 'machine', 'learning', 'classify', 'potential', 'enemies', 'state', 'prevent', 'hiding', 'recommendation', 'systems', 'precisely', 'target', 'propaganda', 'misinformation', 'maximum', 'effect', 'deepfakes', 'aid', 'producing', 'misinformation', 'advanced', 'ai', 'make', 'centralized', 'decision', 'making', 'competitive', 'liberal', 'decentralized', 'systems', 'markets', 'terrorists', 'criminals', 'rogue', 'states', 'may', 'use', 'forms', 'weaponized', 'ai', 'advanced', 'digital', 'warfare', 'lethal', 'autonomous', 'weapons', 'fifty', 'countries', 'reported', 'researching', 'battlefield', 'robots', 'machine', 'learning', 'ai', 'also', 'able', 'design', 'tens', 'thousands', 'toxic', 'molecules', 'matter', 'hours', 'ai', 'programs', 'become', 'biased', 'learning', 'real', 'world', 'data', 'typically', 'introduced', 'system', 'designers', 'learned', 'program', 'thus', 'programmers', 'often', 'unaware', 'bias', 'exists', 'bias', 'inadvertently', 'introduced', 'way', 'training', 'data', 'selected', 'also', 'emerge', 'correlations', 'ai', 'used', 'classify', 'individuals', 'groups', 'make', 'predictions', 'assuming', 'individual', 'resemble', 'members', 'group', 'cases', 'assumption', 'may', 'unfair', 'example', 'compas', 'commercial', 'program', 'widely', 'used', 'u', 'courts', 'assess', 'likelihood', 'defendant', 'becoming', 'recidivist', 'propublica', 'claims', 'compas', 'assigned', 'recidivism', 'risk', 'level', 'black', 'defendants', 'far', 'likely', 'overestimated', 'white', 'defendants', 'despite', 'fact', 'program', 'told', 'races', 'defendants', 'examples', 'algorithmic', 'bias', 'lead', 'unfair', 'outcomes', 'ai', 'used', 'credit', 'rating', 'hiring', 'conference', 'fairness', 'accountability', 'transparency', 'acm', 'facct', 'association', 'computing', 'machinery', 'seoul', 'south', 'korea', 'presented', 'published', 'findings', 'recommending', 'ai', 'robotics', 'systems', 'demonstrated', 'free', 'bias', 'mistakes', 'unsafe', 'use', 'self', 'learning', 'neural', 'networks', 'trained', 'vast', 'unregulated', 'sources', 'flawed', 'internet', 'data', 'curtailed', 'superintelligent', 'ai', 'may', 'able', 'improve', 'point', 'humans', 'could', 'control', 'could', 'physicist', 'stephen', 'hawking', 'puts', 'spell', 'end', 'human', 'race', 'philosopher', 'nick', 'bostrom', 'argues', 'sufficiently', 'intelligent', 'ai', 'chooses', 'actions', 'based', 'achieving', 'goal', 'exhibit', 'convergent', 'behavior', 'acquiring', 'resources', 'protecting', 'shut', 'ai', 'goals', 'fully', 'reflect', 'humanity', 'might', 'need', 'harm', 'humanity', 'acquire', 'resources', 'prevent', 'shut', 'ultimately', 'better', 'achieve', 'goal', 'concludes', 'ai', 'poses', 'risk', 'mankind', 'however', 'humble', 'friendly', 'stated', 'goals', 'might', 'political', 'scientist', 'charles', 'rubin', 'argues', 'sufficiently', 'advanced', 'benevolence', 'may', 'indistinguishable', 'malevolence', 'humans', 'assume', 'machines', 'robots', 'would', 'treat', 'us', 'favorably', 'priori', 'reason', 'believe', 'would', 'share', 'system', 'morality', 'opinion', 'experts', 'industry', 'insiders', 'mixed', 'sizable', 'fractions', 'concerned', 'unconcerned', 'risk', 'eventual', 'superhumanly', 'capable', 'ai', 'stephen', 'hawking', 'microsoft', 'founder', 'bill', 'gates', 'history', 'professor', 'yuval', 'noah', 'harari', 'spacex', 'founder', 'elon', 'musk', 'expressed', 'serious', 'misgivings', 'future', 'ai', 'prominent', 'tech', 'titans', 'including', 'peter', 'thiel', 'amazon', 'web', 'services', 'musk', 'committed', 'billion', 'nonprofit', 'companies', 'champion', 'responsible', 'ai', 'development', 'openai', 'future', 'life', 'institute', 'mark', 'zuckerberg', 'ceo', 'facebook', 'said', 'artificial', 'intelligence', 'helpful', 'current', 'form', 'continue', 'assist', 'humans', 'experts', 'argue', 'risks', 'far', 'enough', 'future', 'worth', 'researching', 'humans', 'valuable', 'perspective', 'superintelligent', 'machine', 'rodney', 'brooks', 'particular', 'said', 'malevolent', 'ai', 'still', 'centuries', 'away', 'x', 'friendly', 'ai', 'machines', 'designed', 'beginning', 'minimize', 'risks', 'make', 'choices', 'benefit', 'humans', 'eliezer', 'yudkowsky', 'coined', 'term', 'argues', 'developing', 'friendly', 'ai', 'higher', 'research', 'priority', 'may', 'require', 'large', 'investment', 'must', 'completed', 'ai', 'becomes', 'existential', 'risk', 'machines', 'intelligence', 'potential', 'use', 'intelligence', 'make', 'ethical', 'decisions', 'field', 'machine', 'ethics', 'provides', 'machines', 'ethical', 'principles', 'procedures', 'resolving', 'ethical', 'dilemmas', 'machine', 'ethics', 'also', 'called', 'machine', 'morality', 'computational', 'ethics', 'computational', 'morality', 'founded', 'aaai', 'symposium', 'approaches', 'include', 'wendell', 'wallach', 'artificial', 'moral', 'agents', 'stuart', 'j', 'russell', 'three', 'principles', 'developing', 'provably', 'beneficial', 'machines', 'regulation', 'artificial', 'intelligence', 'development', 'public', 'sector', 'policies', 'laws', 'promoting', 'regulating', 'artificial', 'intelligence', 'ai', 'therefore', 'related', 'broader', 'regulation', 'algorithms', 'regulatory', 'policy', 'landscape', 'ai', 'emerging', 'issue', 'jurisdictions', 'globally', 'countries', 'adopted', 'dedicated', 'strategies', 'ai', 'eu', 'member', 'states', 'released', 'national', 'ai', 'strategies', 'canada', 'china', 'india', 'japan', 'mauritius', 'russian', 'federation', 'saudi', 'arabia', 'united', 'arab', 'emirates', 'us', 'vietnam', 'others', 'process', 'elaborating', 'ai', 'strategy', 'including', 'bangladesh', 'malaysia', 'tunisia', 'global', 'partnership', 'artificial', 'intelligence', 'launched', 'june', 'stating', 'need', 'ai', 'developed', 'accordance', 'human', 'rights', 'democratic', 'values', 'ensure', 'public', 'confidence', 'trust', 'technology', 'henry', 'kissinger', 'eric', 'schmidt', 'daniel', 'huttenlocher', 'published', 'joint', 'statement', 'november', 'calling', 'government', 'commission', 'regulate', 'ai', 'thought', 'capable', 'artificial', 'beings', 'appeared', 'storytelling', 'devices', 'since', 'antiquity', 'persistent', 'theme', 'science', 'fiction', 'common', 'trope', 'works', 'began', 'mary', 'shelley', 'frankenstein', 'human', 'creation', 'becomes', 'threat', 'masters', 'includes', 'works', 'arthur', 'c', 'clarke', 'stanley', 'kubrick', 'space', 'odyssey', 'hal', 'murderous', 'computer', 'charge', 'discovery', 'one', 'spaceship', 'well', 'terminator', 'matrix', 'contrast', 'rare', 'loyal', 'robots', 'gort', 'day', 'earth', 'stood', 'still', 'bishop', 'aliens', 'less', 'prominent', 'popular', 'culture', 'isaac', 'asimov', 'introduced', 'three', 'laws', 'robotics', 'many', 'books', 'stories', 'notably', 'multivac', 'series', 'super', 'intelligent', 'computer', 'name', 'asimov', 'laws', 'often', 'brought', 'lay', 'discussions', 'machine', 'ethics', 'almost', 'artificial', 'intelligence', 'researchers', 'familiar', 'asimov', 'laws', 'popular', 'culture', 'generally', 'consider', 'laws', 'useless', 'many', 'reasons', 'one', 'ambiguity', 'transhumanism', 'merging', 'humans', 'machines', 'explored', 'manga', 'ghost', 'shell', 'science', 'fiction', 'series', 'dune', 'several', 'works', 'use', 'ai', 'force', 'us', 'confront', 'fundamental', 'question', 'makes', 'us', 'human', 'showing', 'us', 'artificial', 'beings', 'ability', 'feel', 'thus', 'suffer', 'appears', 'karel', 'apek', 'r', 'u', 'r', 'films', 'artificial', 'intelligence', 'ex', 'machina', 'well', 'novel', 'androids', 'dream', 'electric', 'sheep', 'philip', 'k', 'dick', 'dick', 'considers', 'idea', 'understanding', 'human', 'subjectivity', 'altered', 'technology', 'created', 'artificial', 'intelligence', 'technology', 'research', 'evolve', 'world', 'enters', 'third', 'revolution', 'warfare', 'following', 'gunpowder', 'nuclear', 'weapons', 'artificial', 'intelligence', 'arms', 'race', 'ensues', 'united', 'states', 'china', 'russia', 'three', 'countries', 'world', 'top', 'five', 'highest', 'military', 'budgets', 'intentions', 'world', 'leader', 'ai', 'research', 'declared', 'china', 'leader', 'xi', 'jinping', 'president', 'putin', 'russia', 'stated', 'whoever', 'becomes', 'leader', 'sphere', 'become', 'ruler', 'world', 'russia', 'become', 'leader', 'ai', 'research', 'president', 'putin', 'stated', 'russia', 'intent', 'share', 'research', 'world', 'monopolize', 'field', 'similar', 'current', 'sharing', 'nuclear', 'technologies', 'maintaining', 'science', 'diplomacy', 'relations', 'united', 'states', 'china', 'russia', 'examples', 'countries', 'taken', 'stances', 'toward', 'military', 'artificial', 'intelligence', 'since', 'early', 'established', 'military', 'programs', 'develop', 'cyber', 'weapons', 'control', 'lethal', 'autonomous', 'weapons', 'drones', 'used', 'surveillance', 'president', 'putin', 'announced', 'artificial', 'intelligence', 'future', 'mankind', 'recognizes', 'power', 'opportunities', 'development', 'deployment', 'lethal', 'autonomous', 'weapons', 'ai', 'technology', 'hold', 'warfare', 'homeland', 'security', 'well', 'threats', 'president', 'putin', 'prediction', 'future', 'wars', 'fought', 'using', 'ai', 'started', 'come', 'fruition', 'extent', 'russia', 'invaded', 'ukraine', 'february', 'ukrainian', 'military', 'making', 'use', 'turkish', 'bayraktar', 'tb', 'drones', 'still', 'require', 'human', 'operation', 'deploy', 'laser', 'guided', 'bombs', 'take', 'land', 'cruise', 'autonomously', 'ukraine', 'also', 'using', 'switchblade', 'drones', 'supplied', 'us', 'receiving', 'information', 'gathering', 'united', 'states', 'surveillance', 'operations', 'regarding', 'battlefield', 'intelligence', 'national', 'security', 'russia', 'similarly', 'russia', 'use', 'ai', 'help', 'analyze', 'battlefield', 'data', 'surveillance', 'footage', 'taken', 'drones', 'reports', 'images', 'show', 'russia', 'military', 'deployed', 'kub', 'bla', 'suicide', 'drones', 'ukraine', 'speculations', 'intentions', 'assassinate', 'ukrainian', 'president', 'volodymyr', 'zelenskyy', 'research', 'ai', 'realm', 'progresses', 'pushback', 'use', 'ai', 'campaign', 'stop', 'killer', 'robots', 'world', 'technology', 'leaders', 'sent', 'petition', 'united', 'nations', 'calling', 'new', 'regulations', 'development', 'use', 'ai', 'technologies', 'including', 'ban', 'use', 'lethal', 'autonomous', 'weapons', 'due', 'ethical', 'concerns', 'innocent', 'civilian', 'populations', 'ever', 'evolving', 'cyber', 'attacks', 'generation', 'devices', 'ai', 'used', 'threat', 'detection', 'effective', 'response', 'risk', 'prioritization', 'tool', 'challenges', 'also', 'presented', 'privacy', 'informed', 'consent', 'responsible', 'use', 'according', 'cisa', 'cyberspace', 'difficult', 'secure', 'following', 'factors', 'ability', 'malicious', 'actors', 'operate', 'anywhere', 'world', 'linkages', 'cyberspace', 'physical', 'systems', 'difficulty', 'reducing', 'vulnerabilities', 'consequences', 'complex', 'cyber', 'networks', 'increased', 'technological', 'advances', 'world', 'risk', 'wide', 'scale', 'consequential', 'events', 'rises', 'paradoxically', 'ability', 'protect', 'information', 'create', 'line', 'communication', 'scientific', 'diplomatic', 'community', 'thrives', 'role', 'cybersecurity', 'diplomacy', 'become', 'increasingly', 'relevant', 'creating', 'term', 'cyber', 'diplomacy', 'uniformly', 'defined', 'synonymous', 'cyber', 'defence', 'many', 'nations', 'developed', 'unique', 'approaches', 'scientific', 'diplomacy', 'cyberspace', 'dating', 'back', 'czech', 'national', 'security', 'authority', 'nsa', 'appointed', 'national', 'authority', 'cyber', 'agenda', 'role', 'cyber', 'diplomacy', 'strengthened', 'czech', 'ministry', 'foreign', 'affairs', 'mfa', 'detected', 'serious', 'cyber', 'campaign', 'directed', 'computer', 'networks', 'three', 'cyber', 'diplomats', 'deployed', 'washington', 'c', 'brussels', 'tel', 'aviv', 'goal', 'establishing', 'active', 'international', 'cooperation', 'focused', 'engagement', 'eu', 'nato', 'main', 'agenda', 'scientific', 'diplomacy', 'efforts', 'bolster', 'research', 'artificial', 'intelligence', 'utilized', 'cybersecurity', 'research', 'development', 'overall', 'consumer', 'trust', 'czechinvest', 'key', 'stakeholder', 'scientific', 'diplomacy', 'cybersecurity', 'example', 'september', 'organized', 'mission', 'canada', 'september', 'special', 'focus', 'artificial', 'intelligence', 'main', 'goal', 'particular', 'mission', 'promotional', 'effort', 'behalf', 'prague', 'attempting', 'establish', 'future', 'knowledge', 'hub', 'industry', 'interested', 'canadian', 'firms', 'cybersecurity', 'recognized', 'governmental', 'task', 'dividing', 'three', 'ministries', 'responsibility', 'federal', 'ministry', 'interior', 'federal', 'ministry', 'defence', 'federal', 'foreign', 'office', 'distinctions', 'promoted', 'creation', 'various', 'institutions', 'german', 'national', 'office', 'information', 'security', 'national', 'cyberdefence', 'centre', 'german', 'national', 'cyber', 'security', 'council', 'cyber', 'information', 'domain', 'service', 'new', 'strategy', 'artificial', 'intelligence', 'established', 'german', 'government', 'creation', 'german', 'french', 'virtual', 'research', 'innovation', 'network', 'holding', 'opportunity', 'research', 'expansion', 'cybersecurity', 'adoption', 'cybersecurity', 'strategy', 'european', 'union', 'open', 'safe', 'secure', 'cyberspace', 'document', 'european', 'commission', 'pushed', 'forth', 'cybersecurity', 'efforts', 'integrated', 'scientific', 'diplomacy', 'artificial', 'intelligence', 'efforts', 'strong', 'eu', 'funds', 'various', 'programs', 'institutions', 'effort', 'bring', 'science', 'diplomacy', 'bring', 'diplomacy', 'science', 'examples', 'cyber', 'security', 'programme', 'competence', 'research', 'innovation', 'concordia', 'brings', 'together', 'member', 'states', 'cybersecurity', 'europe', 'cse', 'brings', 'together', 'partners', 'involving', 'member', 'states', 'addition', 'european', 'network', 'cybersecurity', 'centres', 'competence', 'hub', 'innovation', 'operations', 'echo', 'gathers', 'partners', 'member', 'states', 'sparta', 'gathers', 'partners', 'involving', 'member', 'states', 'efforts', 'reflect', 'overall', 'goals', 'eu', 'innovate', 'cybersecurity', 'defense', 'protection', 'establish', 'highly', 'integrated', 'cyberspace', 'among', 'many', 'nations', 'contribute', 'security', 'artificial', 'intelligence', 'invasion', 'ukraine', 'rise', 'malicious', 'cyber', 'activity', 'united', 'states', 'ukraine', 'russia', 'prominent', 'rare', 'documented', 'use', 'artificial', 'intelligence', 'conflict', 'behalf', 'ukraine', 'using', 'facial', 'recognition', 'software', 'uncover', 'russian', 'assailants', 'identify', 'ukrainians', 'killed', 'ongoing', 'war', 'though', 'governmental', 'figures', 'primarily', 'focused', 'scientific', 'cyber', 'diplomacy', 'institutions', 'commenting', 'use', 'artificial', 'intelligence', 'cybersecurity', 'focus', 'example', 'georgetown', 'university', 'center', 'security', 'emerging', 'technology', 'cset', 'cyber', 'ai', 'project', 'one', 'goal', 'attract', 'policymakers', 'attention', 'growing', 'body', 'academic', 'research', 'whichexposes', 'exploitive', 'consequences', 'ai', 'machine', 'learning', 'ml', 'algorithms', 'vulnerability', 'plausible', 'explanation', 'russia', 'engaging', 'use', 'ai', 'conflict', 'per', 'andrew', 'lohn', 'senior', 'fellow', 'cset', 'addition', 'use', 'battlefield', 'ai', 'used', 'pentagon', 'analyze', 'data', 'war', 'analyzing', 'strengthen', 'cybersecurity', 'warfare', 'intelligence', 'united', 'states', 'artificial', 'intelligence', 'grows', 'overwhelming', 'amount', 'news', 'portrayed', 'cyberspace', 'expands', 'becoming', 'extremely', 'overwhelming', 'voter', 'know', 'believe', 'many', 'intelligent', 'codes', 'referred', 'bots', 'written', 'portray', 'people', 'social', 'media', 'goal', 'spreading', 'miss', 'information', 'us', 'election', 'victim', 'actions', 'hillary', 'clinton', 'donald', 'trump', 'campaign', 'artificial', 'intelligent', 'bots', 'russia', 'spreading', 'misinformation', 'candidates', 'order', 'help', 'trump', 'campaign', 'analysts', 'concluded', 'approximately', 'twitter', 'tweets', 'centered', 'around', 'election', 'detected', 'come', 'bots', 'youtube', 'recent', 'years', 'used', 'spread', 'political', 'information', 'well', 'although', 'proof', 'platform', 'attempts', 'manipulate', 'viewers', 'opinions', 'youtubes', 'ai', 'algorithm', 'recommends', 'videos', 'similar', 'variety', 'person', 'begins', 'research', 'right', 'wing', 'political', 'podcasts', 'youtube', 'algorithm', 'recommend', 'right', 'wing', 'videos', 'uprising', 'program', 'called', 'deepfake', 'software', 'used', 'replicate', 'someone', 'face', 'words', 'also', 'shown', 'potential', 'threat', 'deepfake', 'video', 'barack', 'obama', 'released', 'saying', 'words', 'claims', 'never', 'said', 'national', 'election', 'deepfake', 'quickly', 'debunked', 'software', 'capability', 'heavily', 'sway', 'smaller', 'local', 'election', 'tool', 'holds', 'lot', 'potential', 'spreading', 'misinformation', 'monitored', 'great', 'attention', 'although', 'may', 'seen', 'tool', 'used', 'harm', 'ai', 'help', 'enhance', 'election', 'campaigns', 'well', 'ai', 'bots', 'programed', 'target', 'articles', 'known', 'misinformation', 'bots', 'indicate', 'misinformed', 'help', 'shine', 'light', 'truth', 'ai', 'also', 'used', 'inform', 'person', 'parts', 'stands', 'certain', 'topic', 'healthcare', 'climate', 'change', 'political', 'leaders', 'nation', 'heavy', 'sway', 'international', 'affairs', 'thus', 'political', 'leader', 'lack', 'interest', 'international', 'collaborative', 'scientific', 'advancement', 'negative', 'impact', 'scientific', 'diplomacy', 'nation', 'use', 'artificial', 'intelligence', 'ai', 'subtly', 'grown', 'become', 'part', 'everyday', 'life', 'used', 'every', 'day', 'facial', 'recognition', 'software', 'first', 'measure', 'security', 'many', 'companies', 'form', 'biometric', 'authentication', 'means', 'authentication', 'allows', 'even', 'official', 'organizations', 'united', 'states', 'internal', 'revenue', 'service', 'verify', 'person', 'identity', 'via', 'database', 'generated', 'machine', 'learning', 'year', 'united', 'states', 'irs', 'requires', 'undergo', 'live', 'interview', 'agent', 'complete', 'biometric', 'verification', 'identity', 'via', 'id', 'facial', 'recognition', 'tool', 'japan', 'south', 'korea', 'artificial', 'intelligence', 'software', 'used', 'instruction', 'english', 'language', 'via', 'company', 'riiid', 'riiid', 'korean', 'education', 'company', 'working', 'alongside', 'japan', 'give', 'students', 'means', 'learn', 'use', 'english', 'communication', 'skills', 'via', 'engaging', 'artificial', 'intelligence', 'live', 'chat', 'riid', 'company', 'american', 'company', 'duolingo', 'well', 'known', 'automated', 'teaching', 'languages', 'babbel', 'german', 'language', 'learning', 'program', 'also', 'uses', 'artificial', 'intelligence', 'teaching', 'automation', 'allowing', 'european', 'students', 'learn', 'vital', 'communication', 'skills', 'needed', 'social', 'economic', 'diplomatic', 'settings', 'artificial', 'intelligence', 'also', 'automate', 'routine', 'tasks', 'teachers', 'need', 'grading', 'taking', 'attendance', 'handling', 'routine', 'student', 'inquiries', 'enables', 'teacher', 'carry', 'complexities', 'teaching', 'automated', 'machine', 'handle', 'include', 'creating', 'exams', 'explaining', 'complex', 'material', 'way', 'benefit', 'students', 'individually', 'handling', 'unique', 'questions', 'students', 'unlike', 'human', 'brain', 'possess', 'generalized', 'intelligence', 'specialized', 'intelligence', 'ai', 'serve', 'means', 'support', 'physicians', 'internationally', 'medical', 'field', 'diverse', 'profound', 'amount', 'data', 'ai', 'employ', 'generate', 'predictive', 'diagnosis', 'researchers', 'oxford', 'hospital', 'developed', 'artificial', 'intelligence', 'diagnose', 'heart', 'scans', 'heart', 'disease', 'cancer', 'artificial', 'intelligence', 'pick', 'diminutive', 'details', 'scans', 'doctors', 'may', 'miss', 'artificial', 'intelligence', 'medicine', 'better', 'industry', 'giving', 'doctors', 'means', 'precisely', 'diagnose', 'patients', 'using', 'tools', 'available', 'artificial', 'intelligence', 'algorithms', 'also', 'used', 'improve', 'diagnosis', 'time', 'via', 'application', 'machine', 'learning', 'called', 'precision', 'medicine', 'furthermore', 'narrow', 'application', 'artificial', 'intelligence', 'use', 'deep', 'learning', 'order', 'improve', 'medical', 'image', 'analysis', 'radiology', 'imaging', 'ai', 'uses', 'deep', 'learning', 'algorithms', 'identify', 'potentially', 'cancerous', 'lesions', 'important', 'process', 'assisting', 'early', 'diagnosis', 'data', 'analysis', 'fundamental', 'property', 'artificial', 'intelligence', 'enables', 'used', 'every', 'facet', 'life', 'search', 'results', 'way', 'people', 'buy', 'product', 'according', 'newvantage', 'partners', 'top', 'businesses', 'ongoing', 'investments', 'artificial', 'intelligence', 'according', 'ibm', 'one', 'world', 'leaders', 'technology', 'respondents', 'companies', 'employees', 'adopted', 'ai', 'recent', 'data', 'shows', 'business', 'market', 'artificial', 'intelligence', 'year', 'valued', 'billion', 'business', 'market', 'artificial', 'intelligence', 'projected', 'billion', 'year', 'prevent', 'harm', 'ai', 'deploying', 'organizations', 'need', 'play', 'central', 'role', 'creating', 'deploying', 'trustworthy', 'ai', 'line', 'principles', 'trustworthy', 'ai', 'take', 'accountability', 'mitigate', 'risks', 'exponential', 'surge', 'artificial', 'technology', 'communication', 'distribution', 'one', 'ideals', 'values', 'evident', 'daily', 'life', 'digital', 'information', 'spread', 'via', 'communication', 'apps', 'whatsapp', 'facebook', 'meta', 'snapchat', 'instagram', 'twitter', 'however', 'known', 'sites', 'relay', 'specific', 'information', 'corresponding', 'data', 'analysis', 'right', 'winged', 'individual', 'google', 'search', 'google', 'algorithms', 'would', 'target', 'individual', 'relay', 'data', 'pertinent', 'target', 'audience', 'us', 'president', 'bill', 'clinton', 'noted', 'new', 'century', 'liberty', 'spread', 'cell', 'phone', 'cable', 'modem', 'know', 'much', 'internet', 'changed', 'america', 'already', 'open', 'society', 'however', 'private', 'sector', 'uses', 'artificial', 'intelligence', 'gather', 'data', 'shift', 'power', 'state', 'private', 'sector', 'may', 'seen', 'shift', 'power', 'specifically', 'large', 'technological', 'corporations', 'could', 'profoundly', 'change', 'diplomacy', 'functions', 'society', 'rise', 'digital', 'technology', 'usage', 'artificial', 'technology', 'enabled', 'private', 'sector', 'gather', 'immense', 'data', 'public', 'categorized', 'race', 'location', 'age', 'gender', 'etc', 'new', 'york', 'times', 'calculates', 'ten', 'largest', 'tech', 'firms', 'become', 'gatekeepers', 'commerce', 'finance', 'entertainment', 'communications', 'combined', 'market', 'capitalization', 'trillion', 'gross', 'domestic', 'product', 'terms', 'would', 'rank', 'world', 'third', 'largest', 'economy', 'beyond', 'general', 'lobbying', 'congressmen', 'congresswomen', 'companies', 'facebook', 'meta', 'google', 'use', 'collected', 'data', 'order', 'reach', 'intended', 'audiences', 'targeted', 'information', 'multiple', 'nations', 'around', 'globe', 'employ', 'artificial', 'intelligence', 'assist', 'foreign', 'policy', 'decisions', 'chinese', 'department', 'external', 'security', 'affairs', 'ministry', 'foreign', 'affairs', 'uses', 'ai', 'review', 'almost', 'foreign', 'investment', 'projects', 'risk', 'mitigation', 'government', 'china', 'plans', 'utilize', 'artificial', 'intelligence', 'billion', 'global', 'infrastructure', 'development', 'plan', 'called', 'belt', 'road', 'initiative', 'political', 'economic', 'environmental', 'risk', 'alleviation', 'applications', 'artificial', 'intelligence', 'used', 'united', 'nations', 'agencies', 'sectors', 'ranging', 'health', 'care', 'dealing', 'issues', 'combating', 'covid', 'smart', 'agriculture', 'assist', 'un', 'political', 'diplomatic', 'relations', 'one', 'example', 'use', 'ai', 'un', 'global', 'pulse', 'program', 'model', 'effect', 'spread', 'covid', 'internally', 'displaced', 'people', 'idp', 'refugee', 'settlements', 'assist', 'creating', 'appropriate', 'global', 'health', 'policy', 'novel', 'ai', 'tools', 'remote', 'sensing', 'also', 'employed', 'diplomats', 'collecting', 'analyzing', 'data', 'near', 'real', 'time', 'tracking', 'objects', 'troop', 'refugee', 'movements', 'along', 'borders', 'violent', 'conflict', 'zones', 'artificial', 'intelligence', 'used', 'mitigate', 'vital', 'cross', 'national', 'diplomatic', 'talks', 'prevent', 'translation', 'errors', 'caused', 'human', 'translators', 'major', 'example', 'anchorage', 'meetings', 'held', 'us', 'china', 'aimed', 'stabilizing', 'foreign', 'relations', 'opposite', 'effect', 'increasing', 'tension', 'aggressiveness', 'two', 'nations', 'due', 'translation', 'errors', 'caused', 'human', 'translators', 'meeting', 'united', 'states', 'national', 'security', 'advisor', 'president', 'joe', 'biden', 'jacob', 'jeremiah', 'sullivan', 'stated', 'seek', 'conflict', 'welcome', 'stiff', 'competition', 'always', 'stand', 'principles', 'people', 'friends', 'mistranslated', 'chinese', 'face', 'competition', 'us', 'present', 'stance', 'clear', 'manner', 'adding', 'aggressive', 'tone', 'speech', 'ai', 'ability', 'fast', 'efficient', 'natural', 'language', 'processing', 'real', 'time', 'translation', 'transliteration', 'makes', 'important', 'tool', 'foreign', 'policy', 'communication', 'nations', 'prevents', 'unintended', 'mistranslation', 'four', 'widely', 'used', 'ai', 'textbooks', 'later', 'editions', 'two', 'widely', 'used', 'textbooks', 'open', 'syllabus', 'explorer', 'see', 'also', 'logic', 'machines', 'fiction', 'list', 'fictional', 'computers']]\n"
     ]
    }
   ],
   "source": [
    "import bs4 as bs\n",
    "import urllib.request\n",
    "import re\n",
    "import nltk\n",
    "\n",
    "scrapped_data = urllib.request.urlopen('https://en.wikipedia.org/wiki/Artificial_intelligence')\n",
    "article = scrapped_data .read()\n",
    "\n",
    "parsed_article = bs.BeautifulSoup(article,'lxml')\n",
    "\n",
    "paragraphs = parsed_article.find_all('p')\n",
    "\n",
    "article_text = \"\"\n",
    "\n",
    "for p in paragraphs:\n",
    "    article_text += p.text\n",
    "# article_text\n",
    "\n",
    "processed_article = article_text.lower()\n",
    "processed_article = re.sub('[^a-zA-Z]', ' ', processed_article )\n",
    "processed_article = re.sub(r'\\s+', ' ', processed_article)\n",
    "\n",
    "# Preparing the dataset\n",
    "all_sentences = nltk.sent_tokenize(processed_article)\n",
    "\n",
    "all_words = [nltk.word_tokenize(sent) for sent in all_sentences]\n",
    "\n",
    "# Removing Stop Words\n",
    "from nltk.corpus import stopwords\n",
    "for i in range(len(all_words)):\n",
    "    all_words[i] = [w for w in all_words[i] if w not in stopwords.words('english')]\n",
    "\n",
    "print(all_words)"
   ]
  },
  {
   "cell_type": "code",
   "execution_count": null,
   "id": "988c9b89",
   "metadata": {},
   "outputs": [],
   "source": []
  },
  {
   "cell_type": "code",
   "execution_count": null,
   "id": "8d44e4c9",
   "metadata": {},
   "outputs": [],
   "source": []
  },
  {
   "cell_type": "code",
   "execution_count": null,
   "id": "ac2fcfd5",
   "metadata": {},
   "outputs": [],
   "source": []
  },
  {
   "cell_type": "code",
   "execution_count": null,
   "id": "12c14bc7",
   "metadata": {},
   "outputs": [],
   "source": []
  },
  {
   "cell_type": "code",
   "execution_count": null,
   "id": "b391ed2b",
   "metadata": {},
   "outputs": [],
   "source": []
  }
 ],
 "metadata": {
  "kernelspec": {
   "display_name": "Python 3.10.4 64-bit",
   "language": "python",
   "name": "python3"
  },
  "language_info": {
   "codemirror_mode": {
    "name": "ipython",
    "version": 3
   },
   "file_extension": ".py",
   "mimetype": "text/x-python",
   "name": "python",
   "nbconvert_exporter": "python",
   "pygments_lexer": "ipython3",
   "version": "3.10.4"
  },
  "vscode": {
   "interpreter": {
    "hash": "22eb5e2c22c238faa93ba91a82f6814d9ac5291abf168a8545504b183eda394b"
   }
  }
 },
 "nbformat": 4,
 "nbformat_minor": 5
}
