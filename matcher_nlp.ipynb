{
 "cells": [
  {
   "cell_type": "raw",
   "id": "5012473e",
   "metadata": {},
   "source": [
    "matcher"
   ]
  },
  {
   "cell_type": "code",
   "execution_count": 24,
   "id": "7313cd38",
   "metadata": {},
   "outputs": [],
   "source": [
    "import spacy\n",
    "nlp=spacy.load('en_core_web_sm')"
   ]
  },
  {
   "cell_type": "code",
   "execution_count": 25,
   "id": "29d2c821",
   "metadata": {},
   "outputs": [],
   "source": [
    "from spacy.matcher import Matcher"
   ]
  },
  {
   "cell_type": "code",
   "execution_count": 36,
   "id": "de3a6a10",
   "metadata": {},
   "outputs": [],
   "source": [
    "matcher=Matcher(nlp.vocab)\n",
    "# solarpower\n",
    "# solar-power\n",
    "# solar power\n",
    "pattern1=[{'LOWER':'solarpower'}]\n",
    "pattern2=[{'LOWER':'solar'},{'IS_PUNCT':True},{'LOWER':'power'}]\n",
    "pattern3=[{'LOWER':'solar'},{'LOWER':'power'}]\n",
    "pattern4=[{'IS_PUNCT':True}]"
   ]
  },
  {
   "cell_type": "code",
   "execution_count": 37,
   "id": "493918fc",
   "metadata": {},
   "outputs": [
    {
     "data": {
      "text/plain": [
       "[(8656102463236116519, 1, 3),\n",
       " (8656102463236116519, 9, 10),\n",
       " (8656102463236116519, 11, 12),\n",
       " (8656102463236116519, 13, 14),\n",
       " (8656102463236116519, 12, 15)]"
      ]
     },
     "execution_count": 37,
     "metadata": {},
     "output_type": "execute_result"
    }
   ],
   "source": [
    "matcher.add(\"SolarPower\",[pattern1,pattern2,pattern3,pattern4])\n",
    "doc=nlp(u\"The Solar Power industry is continue to grow as solarpower incresws.Solar-power is great e\")\n",
    "found_matches=matcher(doc)\n",
    "found_matches"
   ]
  },
  {
   "cell_type": "code",
   "execution_count": 38,
   "id": "59fe089f",
   "metadata": {},
   "outputs": [
    {
     "name": "stdout",
     "output_type": "stream",
     "text": [
      "8656102463236116519 SolarPower 1 3 Solar Power\n",
      "8656102463236116519 SolarPower 9 10 solarpower\n",
      "8656102463236116519 SolarPower 11 12 .\n",
      "8656102463236116519 SolarPower 13 14 -\n",
      "8656102463236116519 SolarPower 12 15 Solar-power\n"
     ]
    }
   ],
   "source": [
    "for match_id , start,end in found_matches:\n",
    "    string_id=nlp.vocab.strings[match_id]\n",
    "    span=doc[start:end]\n",
    "    print(match_id,string_id,start,end,span.text)"
   ]
  },
  {
   "cell_type": "code",
   "execution_count": 29,
   "id": "4a580a56",
   "metadata": {},
   "outputs": [],
   "source": [
    "matcher.remove('SolarPower')"
   ]
  },
  {
   "cell_type": "code",
   "execution_count": 31,
   "id": "05dc36ed",
   "metadata": {},
   "outputs": [],
   "source": [
    "# solarpower,SolarPower\n",
    "pattern1=[{'LOWER':'solarpoer'}]\n",
    "# solar.power\n",
    "pattern2=[{\"LOWER\":'solar'},{'IS_PUNCT':True,'OP':'*'},{'LOWER':'power'}]\n",
    "matcher.add('SolarPower',[pattern1,pattern2])"
   ]
  },
  {
   "cell_type": "code",
   "execution_count": 32,
   "id": "7fc03485",
   "metadata": {},
   "outputs": [],
   "source": [
    "doc2=nlp(u\"Solar--power is solarpower yay!\")"
   ]
  },
  {
   "cell_type": "code",
   "execution_count": 35,
   "id": "8e44bc6c",
   "metadata": {},
   "outputs": [
    {
     "data": {
      "text/plain": [
       "[(8656102463236116519, 0, 3)]"
      ]
     },
     "execution_count": 35,
     "metadata": {},
     "output_type": "execute_result"
    }
   ],
   "source": [
    "found_matcher=matcher(doc2)\n",
    "found_matcher"
   ]
  },
  {
   "cell_type": "code",
   "execution_count": null,
   "id": "869eec62",
   "metadata": {},
   "outputs": [],
   "source": [
    "from spacy.matcher import Pharese"
   ]
  },
  {
   "cell_type": "markdown",
   "id": "b90b3ee9",
   "metadata": {},
   "source": [
    "# MATCHER_NLP_SCORE"
   ]
  },
  {
   "cell_type": "code",
   "execution_count": 39,
   "id": "08bb483f",
   "metadata": {},
   "outputs": [],
   "source": [
    "import spacy\n",
    "nlp = spacy.load('en_core_web_sm')\n",
    "\n",
    "from spacy.matcher import Matcher\n",
    "m_tool = Matcher(nlp.vocab)"
   ]
  },
  {
   "cell_type": "code",
   "execution_count": 40,
   "id": "3e533920",
   "metadata": {},
   "outputs": [],
   "source": [
    "p1 = [{'LOWER': 'quickbrownfox'}]\n",
    "p2 = [{'LOWER': 'quick'}, {'IS_PUNCT': True}, {'LOWER': 'brown'}, {'IS_PUNCT': True}, {'LOWER': 'fox'}]\n",
    "p3 = [{'LOWER': 'quick'}, {'LOWER': 'brown'}, {'LOWER': 'fox'}]\n",
    "p4 =  [{'LOWER': 'quick'}, {'LOWER': 'brownfox'}]"
   ]
  },
  {
   "cell_type": "code",
   "execution_count": 41,
   "id": "b8b8273c",
   "metadata": {},
   "outputs": [],
   "source": [
    "m_tool.add('QBF',[ p1, p2, p3, p4])"
   ]
  },
  {
   "cell_type": "code",
   "execution_count": 43,
   "id": "dd98f797",
   "metadata": {},
   "outputs": [],
   "source": [
    "sentence = nlp(u'The quick-brown-fox jumps over the lazy dog. The quick brown fox eats well. \\\n",
    "               the quickbrownfox is dead. the dog misses the quick brownfox')"
   ]
  },
  {
   "cell_type": "code",
   "execution_count": 44,
   "id": "ae1fc95c",
   "metadata": {},
   "outputs": [
    {
     "name": "stdout",
     "output_type": "stream",
     "text": [
      "[(12825528024649263697, 1, 6), (12825528024649263697, 13, 16), (12825528024649263697, 21, 22), (12825528024649263697, 29, 31)]\n"
     ]
    }
   ],
   "source": [
    "phrase_matches = m_tool(sentence)\n",
    "print(phrase_matches )"
   ]
  },
  {
   "cell_type": "code",
   "execution_count": 45,
   "id": "e4bd525c",
   "metadata": {},
   "outputs": [
    {
     "name": "stdout",
     "output_type": "stream",
     "text": [
      "12825528024649263697 QBF 1 6 quick-brown-fox\n",
      "12825528024649263697 QBF 13 16 quick brown fox\n",
      "12825528024649263697 QBF 21 22 quickbrownfox\n",
      "12825528024649263697 QBF 29 31 quick brownfox\n"
     ]
    }
   ],
   "source": [
    "for match_id, start, end in phrase_matches:\n",
    "    string_id = nlp.vocab.strings[match_id]  \n",
    "    span = sentence[start:end]                   \n",
    "    print(match_id, string_id, start, end, span.text)"
   ]
  },
  {
   "cell_type": "code",
   "execution_count": 46,
   "id": "baf883bd",
   "metadata": {},
   "outputs": [],
   "source": [
    "m_tool.remove('QBF')"
   ]
  },
  {
   "cell_type": "code",
   "execution_count": 47,
   "id": "fe2b1e2f",
   "metadata": {},
   "outputs": [],
   "source": [
    "sentence = nlp(u'The quick--brown--fox jumps over the  quick-brown---fox')"
   ]
  },
  {
   "cell_type": "code",
   "execution_count": 48,
   "id": "d1611879",
   "metadata": {},
   "outputs": [
    {
     "name": "stderr",
     "output_type": "stream",
     "text": [
      "C:\\Users\\Kishor Kore\\AppData\\Local\\Temp\\ipykernel_18620\\462329292.py:1: UserWarning: [W036] The component 'matcher' does not have any patterns defined.\n",
      "  phrase_matches = m_tool(sentence)\n"
     ]
    }
   ],
   "source": [
    "phrase_matches = m_tool(sentence)\n",
    "\n",
    "for match_id, start, end in phrase_matches:\n",
    "    string_id = nlp.vocab.strings[match_id]  \n",
    "    span = sentence[start:end]                   \n",
    "    print(match_id, string_id, start, end, span.text)"
   ]
  },
  {
   "cell_type": "markdown",
   "id": "8268b310",
   "metadata": {},
   "source": [
    "# PHRESED BASED MATCHING"
   ]
  },
  {
   "cell_type": "code",
   "execution_count": 49,
   "id": "0022d178",
   "metadata": {},
   "outputs": [],
   "source": [
    "import bs4 as bs  \n",
    "import urllib.request  \n",
    "import re  \n",
    "import nltk\n",
    "\n",
    "scrapped_data = urllib.request.urlopen('https://en.wikipedia.org/wiki/Artificial_intelligence')  \n",
    "article = scrapped_data .read()\n",
    "\n",
    "parsed_article = bs.BeautifulSoup(article,'lxml')\n",
    "\n",
    "paragraphs = parsed_article.find_all('p')\n",
    "\n",
    "article_text = \"\"\n",
    "\n",
    "for p in paragraphs:  \n",
    "    article_text += p.text\n",
    "    \n",
    "    \n",
    "processed_article = article_text.lower()  \n",
    "processed_article = re.sub('[^a-zA-Z]', ' ', processed_article )  \n",
    "processed_article = re.sub(r'\\s+', ' ', processed_article)\n"
   ]
  },
  {
   "cell_type": "code",
   "execution_count": 52,
   "id": "440ba758",
   "metadata": {},
   "outputs": [],
   "source": [
    "import spacy\n",
    "nlp = spacy.load('en_core_web_sm')\n",
    "\n",
    "\n",
    "from spacy.matcher import PhraseMatcher\n",
    "phrase_matcher = PhraseMatcher(nlp.vocab)"
   ]
  },
  {
   "cell_type": "code",
   "execution_count": 54,
   "id": "d60f083e",
   "metadata": {},
   "outputs": [
    {
     "data": {
      "text/plain": [
       "[machine learning, robots, intelligent agents]"
      ]
     },
     "execution_count": 54,
     "metadata": {},
     "output_type": "execute_result"
    }
   ],
   "source": [
    "phrases = ['machine learning', 'robots', 'intelligent agents']\n",
    "\n",
    "patterns = [nlp(text) for text in phrases]\n",
    "patterns"
   ]
  },
  {
   "cell_type": "code",
   "execution_count": 55,
   "id": "e07cb8b6",
   "metadata": {},
   "outputs": [
    {
     "data": {
      "text/plain": [
       "[(5530044837203964789, 31, 33),\n",
       " (5530044837203964789, 292, 294),\n",
       " (5530044837203964789, 1217, 1218),\n",
       " (5530044837203964789, 1354, 1356),\n",
       " (5530044837203964789, 2055, 2057),\n",
       " (5530044837203964789, 2552, 2553),\n",
       " (5530044837203964789, 3674, 3676),\n",
       " (5530044837203964789, 3688, 3690),\n",
       " (5530044837203964789, 4849, 4851),\n",
       " (5530044837203964789, 4871, 4873),\n",
       " (5530044837203964789, 5386, 5388),\n",
       " (5530044837203964789, 5413, 5415),\n",
       " (5530044837203964789, 6610, 6611),\n",
       " (5530044837203964789, 6779, 6781),\n",
       " (5530044837203964789, 6858, 6859),\n",
       " (5530044837203964789, 6859, 6861),\n",
       " (5530044837203964789, 7246, 7247),\n",
       " (5530044837203964789, 7780, 7781),\n",
       " (5530044837203964789, 8340, 8341),\n",
       " (5530044837203964789, 9067, 9069),\n",
       " (5530044837203964789, 9544, 9546),\n",
       " (5530044837203964789, 9866, 9868)]"
      ]
     },
     "execution_count": 55,
     "metadata": {},
     "output_type": "execute_result"
    }
   ],
   "source": [
    "phrase_matcher.add('AI', None, *patterns)\n",
    "sentence = nlp (processed_article)\n",
    "\n",
    "matched_phrases = phrase_matcher(sentence)\n",
    "matched_phrases"
   ]
  },
  {
   "cell_type": "code",
   "execution_count": 56,
   "id": "54bac7ae",
   "metadata": {},
   "outputs": [
    {
     "name": "stdout",
     "output_type": "stream",
     "text": [
      "5530044837203964789 AI 31 33 intelligent agents\n",
      "5530044837203964789 AI 292 294 machine learning\n",
      "5530044837203964789 AI 1217 1218 robots\n",
      "5530044837203964789 AI 1354 1356 machine learning\n",
      "5530044837203964789 AI 2055 2057 machine learning\n",
      "5530044837203964789 AI 2552 2553 robots\n",
      "5530044837203964789 AI 3674 3676 machine learning\n",
      "5530044837203964789 AI 3688 3690 machine learning\n",
      "5530044837203964789 AI 4849 4851 machine learning\n",
      "5530044837203964789 AI 4871 4873 machine learning\n",
      "5530044837203964789 AI 5386 5388 machine learning\n",
      "5530044837203964789 AI 5413 5415 machine learning\n",
      "5530044837203964789 AI 6610 6611 robots\n",
      "5530044837203964789 AI 6779 6781 machine learning\n",
      "5530044837203964789 AI 6858 6859 robots\n",
      "5530044837203964789 AI 6859 6861 machine learning\n",
      "5530044837203964789 AI 7246 7247 robots\n",
      "5530044837203964789 AI 7780 7781 robots\n",
      "5530044837203964789 AI 8340 8341 robots\n",
      "5530044837203964789 AI 9067 9069 machine learning\n",
      "5530044837203964789 AI 9544 9546 machine learning\n",
      "5530044837203964789 AI 9866 9868 machine learning\n"
     ]
    }
   ],
   "source": [
    "for match_id, start, end in matched_phrases:\n",
    "    string_id = nlp.vocab.strings[match_id]  \n",
    "    span = sentence[start:end]                   \n",
    "    print(match_id, string_id, start, end, span.text)"
   ]
  },
  {
   "cell_type": "code",
   "execution_count": 57,
   "id": "395b7bbf",
   "metadata": {
    "collapsed": true
   },
   "outputs": [
    {
     "name": "stdout",
     "output_type": "stream",
     "text": [
      "{'be', 'give', 'whence', 'most', 'his', 'some', 'and', 'who', 'seem', 'of', 'eleven', 'done', 'empty', 'them', 'own', 'rather', 'ca', 'how', 'every', 'afterwards', 'so', 'twenty', 'your', '‘ve', 'before', 'did', 'was', 'full', 'all', 'top', 'used', 'therefore', 'somewhere', 'get', 'upon', 'together', 'sixty', 'back', 'then', 'are', '‘d', 'nowhere', 'namely', 'also', 'name', 'whenever', 'until', 'thence', 'formerly', 'but', 'latter', 'or', 'fifteen', 'behind', 'us', 'would', \"'ve\", 'after', 'anywhere', 'alone', 'former', 'four', 'hence', 'herself', 'i', 'for', 'thus', 'elsewhere', 'under', 'there', 'enough', \"n't\", 'above', 'nine', 'whether', 'nobody', 'ten', 'across', 'both', 'eight', 'thru', 'six', 'mine', '’ll', 'between', 'cannot', 'had', 'except', 'first', \"'s\", 'hereafter', 'somehow', 'her', 'very', 'off', 'mostly', 'this', 'it', 'again', 'him', 'still', 'almost', 'therein', 'someone', 'might', 'however', 'n‘t', 'were', 'become', 'do', 'if', '‘s', 'never', 'throughout', 'part', 'ours', 'during', 'five', 'everyone', 'our', 're', \"'ll\", 'when', \"'d\", 'no', 'here', 'down', 'seeming', 'thereby', 'where', 'now', 'due', 'amongst', '’d', 'am', 'may', 'whither', 'whatever', 'my', 'among', 'only', 'front', 'move', 'which', 'anyhow', 'hereby', 'should', 'by', 'amount', 'hundred', 'call', 'show', 'have', 'they', 'via', 'doing', 'around', 'sometimes', 'several', 'nevertheless', 'onto', 'even', 'themselves', 'you', 'either', 'against', 'just', 'though', 'seemed', 'another', 'not', '’ve', 'quite', 'please', 'many', 'beside', 'already', 'from', 'latterly', 'indeed', 'yours', 'towards', 'such', 'is', 'next', 'within', 'moreover', 'must', 'keep', 'hers', 'out', 'anything', 'two', 'well', 'nothing', \"'re\", 'beyond', 'beforehand', 'per', 'with', 'seems', 'something', 'we', 'than', 'itself', 'side', 'noone', 'few', 'ever', 'yourself', 'more', 'the', 'third', 'up', 'does', 'less', 'while', 'its', 'any', 'neither', 'along', 'go', 'their', 'further', 'last', 'yourselves', \"'m\", 'perhaps', 'whereas', 'because', 'whole', 'everywhere', 'as', 'anyway', 'that', 'others', 'besides', 'much', 'has', 'herein', 'she', 'me', 'thereafter', 'sometime', 'put', 'always', 'twelve', 'what', 'a', 'forty', 'made', 'about', 'although', '’m', 'could', 'none', 'whereupon', 'various', 'at', 'over', 'other', 'one', 'anyone', 'unless', 'why', 'becomes', 'in', 'three', '’s', 'really', 'otherwise', 'fifty', 'been', 'least', 'below', 'take', '‘ll', 'each', 'often', 'nor', 'into', 'became', 'hereupon', 'myself', 'make', 'using', 'whom', 'say', 'else', 'to', '‘m', 'regarding', 'these', 'without', 'wherever', 'since', 'an', 'will', '‘re', 'toward', 'those', 'once', 'see', '’re', 'ourselves', 'whereby', 'everything', 'meanwhile', 'same', 'yet', 'whereafter', 'serious', 'whoever', 'through', 'whose', 'n’t', 'can', 'wherein', 'too', 'bottom', 'becoming', 'himself', 'on', 'he', 'thereupon', 'being'}\n"
     ]
    }
   ],
   "source": [
    "import spacy\n",
    "sp = spacy.load('en_core_web_sm')\n",
    "print(sp.Defaults.stop_words)"
   ]
  },
  {
   "cell_type": "code",
   "execution_count": 58,
   "id": "c5014916",
   "metadata": {},
   "outputs": [],
   "source": [
    "sp.Defaults.stop_words.add('wonder')"
   ]
  },
  {
   "cell_type": "code",
   "execution_count": 59,
   "id": "81165bc3",
   "metadata": {},
   "outputs": [],
   "source": [
    "sp.vocab['wonder'].is_stop = True"
   ]
  },
  {
   "cell_type": "code",
   "execution_count": null,
   "id": "a048d208",
   "metadata": {},
   "outputs": [],
   "source": []
  }
 ],
 "metadata": {
  "kernelspec": {
   "display_name": "Python 3 (ipykernel)",
   "language": "python",
   "name": "python3"
  },
  "language_info": {
   "codemirror_mode": {
    "name": "ipython",
    "version": 3
   },
   "file_extension": ".py",
   "mimetype": "text/x-python",
   "name": "python",
   "nbconvert_exporter": "python",
   "pygments_lexer": "ipython3",
   "version": "3.10.4"
  }
 },
 "nbformat": 4,
 "nbformat_minor": 5
}
